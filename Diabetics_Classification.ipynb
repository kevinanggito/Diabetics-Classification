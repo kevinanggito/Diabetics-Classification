{
  "cells": [
    {
      "cell_type": "markdown",
      "metadata": {
        "id": "sLFhvzYptbGu"
      },
      "source": [
        "## Import data and packages"
      ]
    },
    {
      "cell_type": "code",
      "execution_count": null,
      "metadata": {
        "id": "RRyY-mwptbG0",
        "outputId": "287c9c83-b3a7-4763-fae0-3a56318285c6"
      },
      "outputs": [
        {
          "data": {
            "text/html": [
              "<div>\n",
              "<style scoped>\n",
              "    .dataframe tbody tr th:only-of-type {\n",
              "        vertical-align: middle;\n",
              "    }\n",
              "\n",
              "    .dataframe tbody tr th {\n",
              "        vertical-align: top;\n",
              "    }\n",
              "\n",
              "    .dataframe thead th {\n",
              "        text-align: right;\n",
              "    }\n",
              "</style>\n",
              "<table border=\"1\" class=\"dataframe\">\n",
              "  <thead>\n",
              "    <tr style=\"text-align: right;\">\n",
              "      <th></th>\n",
              "      <th>Patient number</th>\n",
              "      <th>Cholesterol</th>\n",
              "      <th>Glucose</th>\n",
              "      <th>HDL Chol</th>\n",
              "      <th>Chol/HDL ratio</th>\n",
              "      <th>Age</th>\n",
              "      <th>Gender</th>\n",
              "      <th>Height</th>\n",
              "      <th>Weight</th>\n",
              "      <th>BMI</th>\n",
              "      <th>Systolic BP</th>\n",
              "      <th>Diastolic BP</th>\n",
              "      <th>waist</th>\n",
              "      <th>hip</th>\n",
              "      <th>Waist/hip ratio</th>\n",
              "      <th>Diabetes</th>\n",
              "    </tr>\n",
              "  </thead>\n",
              "  <tbody>\n",
              "    <tr>\n",
              "      <th>0</th>\n",
              "      <td>1</td>\n",
              "      <td>193</td>\n",
              "      <td>77</td>\n",
              "      <td>49</td>\n",
              "      <td>3.9</td>\n",
              "      <td>19</td>\n",
              "      <td>female</td>\n",
              "      <td>61</td>\n",
              "      <td>119</td>\n",
              "      <td>22.5</td>\n",
              "      <td>118</td>\n",
              "      <td>70</td>\n",
              "      <td>32</td>\n",
              "      <td>38</td>\n",
              "      <td>0.84</td>\n",
              "      <td>No diabetes</td>\n",
              "    </tr>\n",
              "    <tr>\n",
              "      <th>1</th>\n",
              "      <td>2</td>\n",
              "      <td>146</td>\n",
              "      <td>79</td>\n",
              "      <td>41</td>\n",
              "      <td>3.6</td>\n",
              "      <td>19</td>\n",
              "      <td>female</td>\n",
              "      <td>60</td>\n",
              "      <td>135</td>\n",
              "      <td>26.4</td>\n",
              "      <td>108</td>\n",
              "      <td>58</td>\n",
              "      <td>33</td>\n",
              "      <td>40</td>\n",
              "      <td>0.83</td>\n",
              "      <td>No diabetes</td>\n",
              "    </tr>\n",
              "    <tr>\n",
              "      <th>2</th>\n",
              "      <td>3</td>\n",
              "      <td>217</td>\n",
              "      <td>75</td>\n",
              "      <td>54</td>\n",
              "      <td>4.0</td>\n",
              "      <td>20</td>\n",
              "      <td>female</td>\n",
              "      <td>67</td>\n",
              "      <td>187</td>\n",
              "      <td>29.3</td>\n",
              "      <td>110</td>\n",
              "      <td>72</td>\n",
              "      <td>40</td>\n",
              "      <td>45</td>\n",
              "      <td>0.89</td>\n",
              "      <td>No diabetes</td>\n",
              "    </tr>\n",
              "    <tr>\n",
              "      <th>3</th>\n",
              "      <td>4</td>\n",
              "      <td>226</td>\n",
              "      <td>97</td>\n",
              "      <td>70</td>\n",
              "      <td>3.2</td>\n",
              "      <td>20</td>\n",
              "      <td>female</td>\n",
              "      <td>64</td>\n",
              "      <td>114</td>\n",
              "      <td>19.6</td>\n",
              "      <td>122</td>\n",
              "      <td>64</td>\n",
              "      <td>31</td>\n",
              "      <td>39</td>\n",
              "      <td>0.79</td>\n",
              "      <td>No diabetes</td>\n",
              "    </tr>\n",
              "    <tr>\n",
              "      <th>4</th>\n",
              "      <td>5</td>\n",
              "      <td>164</td>\n",
              "      <td>91</td>\n",
              "      <td>67</td>\n",
              "      <td>2.4</td>\n",
              "      <td>20</td>\n",
              "      <td>female</td>\n",
              "      <td>70</td>\n",
              "      <td>141</td>\n",
              "      <td>20.2</td>\n",
              "      <td>122</td>\n",
              "      <td>86</td>\n",
              "      <td>32</td>\n",
              "      <td>39</td>\n",
              "      <td>0.82</td>\n",
              "      <td>No diabetes</td>\n",
              "    </tr>\n",
              "  </tbody>\n",
              "</table>\n",
              "</div>"
            ],
            "text/plain": [
              "   Patient number  Cholesterol  Glucose  HDL Chol  Chol/HDL ratio  Age  \\\n",
              "0               1          193       77        49             3.9   19   \n",
              "1               2          146       79        41             3.6   19   \n",
              "2               3          217       75        54             4.0   20   \n",
              "3               4          226       97        70             3.2   20   \n",
              "4               5          164       91        67             2.4   20   \n",
              "\n",
              "   Gender  Height  Weight   BMI  Systolic BP  Diastolic BP  waist  hip  \\\n",
              "0  female      61     119  22.5          118            70     32   38   \n",
              "1  female      60     135  26.4          108            58     33   40   \n",
              "2  female      67     187  29.3          110            72     40   45   \n",
              "3  female      64     114  19.6          122            64     31   39   \n",
              "4  female      70     141  20.2          122            86     32   39   \n",
              "\n",
              "   Waist/hip ratio     Diabetes  \n",
              "0             0.84  No diabetes  \n",
              "1             0.83  No diabetes  \n",
              "2             0.89  No diabetes  \n",
              "3             0.79  No diabetes  \n",
              "4             0.82  No diabetes  "
            ]
          },
          "execution_count": 3,
          "metadata": {},
          "output_type": "execute_result"
        }
      ],
      "source": [
        "import pandas as pd\n",
        "import seaborn as sns\n",
        "\n",
        "data=pd.read_excel('C:/Users/Hp/Desktop/Diabetes_Classification.xlsx')\n",
        "data.head()"
      ]
    },
    {
      "cell_type": "markdown",
      "metadata": {
        "id": "u0oAocxhtbG4"
      },
      "source": [
        "Show all variables in the data. The variables are identified as shown below:\n",
        "\n",
        "1. `Patient number` identifies patients by number\n",
        "2. `Cholestrol` indicates total cholesterol\n",
        "3. `Glucose` indicates fasting blood sugar\n",
        "4. `HDL` refers to good cholesterol \n",
        "5. `Chol/HDL Ratio` is the ratio of total cholesterol to good cholesterol(HDL). Desirable result is <5 \n",
        "6. `Age` of all adult African American\n",
        "7. `Gender` which includes 162 males, 228 females\n",
        "8. `Height` measured in inches\n",
        "9. `Weight` measured in pound(lbs)\n",
        "10. `BMI` is (703 x weight)/2(height)     #lbs,inches\n",
        "11. `Systolic BP` refers to the upper number of blood pressure\n",
        "12. `Diastolic BP` refers to the lower number of blood pressure\n",
        "13. `Waist` measured in inches\n",
        "14. `Hip` measured in inches\n",
        "15. `Waist/Hip Ratio` is the ratio of a possibly stronger risk factor for heart disease than BMI\n",
        "16. `Diabetes`; number of people with diabetes: Yes (60), No (330)"
      ]
    },
    {
      "cell_type": "markdown",
      "metadata": {
        "id": "SpBS9HYItbG6"
      },
      "source": [
        "Check for null data in variables"
      ]
    },
    {
      "cell_type": "code",
      "execution_count": null,
      "metadata": {
        "scrolled": true,
        "id": "NlwYl2oAtbG7",
        "outputId": "635a2d22-b9c8-47fb-e2dc-1d457ff070eb"
      },
      "outputs": [
        {
          "name": "stdout",
          "output_type": "stream",
          "text": [
            "<class 'pandas.core.frame.DataFrame'>\n",
            "RangeIndex: 390 entries, 0 to 389\n",
            "Data columns (total 16 columns):\n",
            " #   Column           Non-Null Count  Dtype  \n",
            "---  ------           --------------  -----  \n",
            " 0   Patient number   390 non-null    int64  \n",
            " 1   Cholesterol      390 non-null    int64  \n",
            " 2   Glucose          390 non-null    int64  \n",
            " 3   HDL Chol         390 non-null    int64  \n",
            " 4   Chol/HDL ratio   390 non-null    float64\n",
            " 5   Age              390 non-null    int64  \n",
            " 6   Gender           390 non-null    object \n",
            " 7   Height           390 non-null    int64  \n",
            " 8   Weight           390 non-null    int64  \n",
            " 9   BMI              390 non-null    float64\n",
            " 10  Systolic BP      390 non-null    int64  \n",
            " 11  Diastolic BP     390 non-null    int64  \n",
            " 12  waist            390 non-null    int64  \n",
            " 13  hip              390 non-null    int64  \n",
            " 14  Waist/hip ratio  390 non-null    float64\n",
            " 15  Diabetes         390 non-null    object \n",
            "dtypes: float64(3), int64(11), object(2)\n",
            "memory usage: 48.9+ KB\n"
          ]
        }
      ],
      "source": [
        "data.info()"
      ]
    },
    {
      "cell_type": "markdown",
      "metadata": {
        "id": "uq-uf_GBtbG9"
      },
      "source": [
        "Change the data type for `Age` to minimize the memory usage"
      ]
    },
    {
      "cell_type": "code",
      "execution_count": null,
      "metadata": {
        "scrolled": false,
        "id": "2rJtSj4itbG9",
        "outputId": "8eb8e56f-ca88-4fd5-cd22-f5e6cd1ad902"
      },
      "outputs": [
        {
          "name": "stdout",
          "output_type": "stream",
          "text": [
            "<class 'pandas.core.frame.DataFrame'>\n",
            "RangeIndex: 390 entries, 0 to 389\n",
            "Data columns (total 16 columns):\n",
            " #   Column           Non-Null Count  Dtype  \n",
            "---  ------           --------------  -----  \n",
            " 0   Patient number   390 non-null    int64  \n",
            " 1   Cholesterol      390 non-null    int64  \n",
            " 2   Glucose          390 non-null    int64  \n",
            " 3   HDL Chol         390 non-null    int64  \n",
            " 4   Chol/HDL ratio   390 non-null    float64\n",
            " 5   Age              390 non-null    int32  \n",
            " 6   Gender           390 non-null    object \n",
            " 7   Height           390 non-null    int64  \n",
            " 8   Weight           390 non-null    int64  \n",
            " 9   BMI              390 non-null    float64\n",
            " 10  Systolic BP      390 non-null    int64  \n",
            " 11  Diastolic BP     390 non-null    int64  \n",
            " 12  waist            390 non-null    int64  \n",
            " 13  hip              390 non-null    int64  \n",
            " 14  Waist/hip ratio  390 non-null    float64\n",
            " 15  Diabetes         390 non-null    object \n",
            "dtypes: float64(3), int32(1), int64(10), object(2)\n",
            "memory usage: 47.4+ KB\n"
          ]
        }
      ],
      "source": [
        "data=data.astype({'Age': 'int32'})\n",
        "data.info()"
      ]
    },
    {
      "cell_type": "markdown",
      "metadata": {
        "id": "oLX4SyO0tbG-"
      },
      "source": [
        "Define function to count the proportion of categorical data "
      ]
    },
    {
      "cell_type": "code",
      "execution_count": null,
      "metadata": {
        "id": "zBSICwD_tbG_"
      },
      "outputs": [],
      "source": [
        "def value_counts(data, col, style=True):\n",
        "    table = data[col].value_counts().rename_axis('Value').reset_index(name='Count')\n",
        "    table['Percentage'] = table['Count'] / table['Count'].sum(axis=0)\n",
        "    \n",
        "    if style:\n",
        "        table = table.style.format({'Count': '{:,}', 'Percentage': '{:.2%}'}).hide_index()\n",
        "        \n",
        "    return table"
      ]
    },
    {
      "cell_type": "markdown",
      "metadata": {
        "id": "4YNqCck0tbHA"
      },
      "source": [
        "Take a look at the proportion of categorical data"
      ]
    },
    {
      "cell_type": "code",
      "execution_count": null,
      "metadata": {
        "id": "B5zbuYe6tbHB",
        "outputId": "d5999cc4-4cd6-425c-f1ed-2ac51fae98d5"
      },
      "outputs": [
        {
          "data": {
            "text/html": [
              "<style  type=\"text/css\" >\n",
              "</style><table id=\"T_d36623f2_d827_11eb_a15b_4c1d9613b2a2\" ><thead>    <tr>        <th class=\"col_heading level0 col0\" >Value</th>        <th class=\"col_heading level0 col1\" >Count</th>        <th class=\"col_heading level0 col2\" >Percentage</th>    </tr></thead><tbody>\n",
              "                <tr>\n",
              "                                <td id=\"T_d36623f2_d827_11eb_a15b_4c1d9613b2a2row0_col0\" class=\"data row0 col0\" >female</td>\n",
              "                        <td id=\"T_d36623f2_d827_11eb_a15b_4c1d9613b2a2row0_col1\" class=\"data row0 col1\" >228</td>\n",
              "                        <td id=\"T_d36623f2_d827_11eb_a15b_4c1d9613b2a2row0_col2\" class=\"data row0 col2\" >58.46%</td>\n",
              "            </tr>\n",
              "            <tr>\n",
              "                                <td id=\"T_d36623f2_d827_11eb_a15b_4c1d9613b2a2row1_col0\" class=\"data row1 col0\" >male</td>\n",
              "                        <td id=\"T_d36623f2_d827_11eb_a15b_4c1d9613b2a2row1_col1\" class=\"data row1 col1\" >162</td>\n",
              "                        <td id=\"T_d36623f2_d827_11eb_a15b_4c1d9613b2a2row1_col2\" class=\"data row1 col2\" >41.54%</td>\n",
              "            </tr>\n",
              "    </tbody></table>"
            ],
            "text/plain": [
              "<pandas.io.formats.style.Styler at 0x18384723c70>"
            ]
          },
          "execution_count": 5,
          "metadata": {},
          "output_type": "execute_result"
        }
      ],
      "source": [
        "value_counts(data, 'Gender')"
      ]
    },
    {
      "cell_type": "code",
      "execution_count": null,
      "metadata": {
        "scrolled": true,
        "id": "7_niwnyztbHD",
        "outputId": "4534c4ae-87d0-47df-cf1e-f91139bb5dd7"
      },
      "outputs": [
        {
          "data": {
            "text/html": [
              "<style  type=\"text/css\" >\n",
              "</style><table id=\"T_d36946b0_d827_11eb_bbed_4c1d9613b2a2\" ><thead>    <tr>        <th class=\"col_heading level0 col0\" >Value</th>        <th class=\"col_heading level0 col1\" >Count</th>        <th class=\"col_heading level0 col2\" >Percentage</th>    </tr></thead><tbody>\n",
              "                <tr>\n",
              "                                <td id=\"T_d36946b0_d827_11eb_bbed_4c1d9613b2a2row0_col0\" class=\"data row0 col0\" >No diabetes</td>\n",
              "                        <td id=\"T_d36946b0_d827_11eb_bbed_4c1d9613b2a2row0_col1\" class=\"data row0 col1\" >330</td>\n",
              "                        <td id=\"T_d36946b0_d827_11eb_bbed_4c1d9613b2a2row0_col2\" class=\"data row0 col2\" >84.62%</td>\n",
              "            </tr>\n",
              "            <tr>\n",
              "                                <td id=\"T_d36946b0_d827_11eb_bbed_4c1d9613b2a2row1_col0\" class=\"data row1 col0\" >Diabetes</td>\n",
              "                        <td id=\"T_d36946b0_d827_11eb_bbed_4c1d9613b2a2row1_col1\" class=\"data row1 col1\" >60</td>\n",
              "                        <td id=\"T_d36946b0_d827_11eb_bbed_4c1d9613b2a2row1_col2\" class=\"data row1 col2\" >15.38%</td>\n",
              "            </tr>\n",
              "    </tbody></table>"
            ],
            "text/plain": [
              "<pandas.io.formats.style.Styler at 0x18384b6bfa0>"
            ]
          },
          "execution_count": 6,
          "metadata": {},
          "output_type": "execute_result"
        }
      ],
      "source": [
        "value_counts(data, 'Diabetes')"
      ]
    },
    {
      "cell_type": "markdown",
      "metadata": {
        "id": "xiqiNpU5tbHE"
      },
      "source": [
        "Convert `Diabetes` and `Gender` into binary data (No diabetes and female = 0, Diabetes and male = 1)"
      ]
    },
    {
      "cell_type": "code",
      "execution_count": null,
      "metadata": {
        "id": "q0Y6OGFptbHE",
        "outputId": "ca2bcb29-3645-4d33-d8cb-489cc9aedaaa"
      },
      "outputs": [
        {
          "data": {
            "text/html": [
              "<div>\n",
              "<style scoped>\n",
              "    .dataframe tbody tr th:only-of-type {\n",
              "        vertical-align: middle;\n",
              "    }\n",
              "\n",
              "    .dataframe tbody tr th {\n",
              "        vertical-align: top;\n",
              "    }\n",
              "\n",
              "    .dataframe thead th {\n",
              "        text-align: right;\n",
              "    }\n",
              "</style>\n",
              "<table border=\"1\" class=\"dataframe\">\n",
              "  <thead>\n",
              "    <tr style=\"text-align: right;\">\n",
              "      <th></th>\n",
              "      <th>Patient number</th>\n",
              "      <th>Cholesterol</th>\n",
              "      <th>Glucose</th>\n",
              "      <th>HDL Chol</th>\n",
              "      <th>Chol/HDL ratio</th>\n",
              "      <th>Age</th>\n",
              "      <th>Gender</th>\n",
              "      <th>Height</th>\n",
              "      <th>Weight</th>\n",
              "      <th>BMI</th>\n",
              "      <th>Systolic BP</th>\n",
              "      <th>Diastolic BP</th>\n",
              "      <th>waist</th>\n",
              "      <th>hip</th>\n",
              "      <th>Waist/hip ratio</th>\n",
              "      <th>Diabetes</th>\n",
              "    </tr>\n",
              "  </thead>\n",
              "  <tbody>\n",
              "    <tr>\n",
              "      <th>0</th>\n",
              "      <td>1</td>\n",
              "      <td>193</td>\n",
              "      <td>77</td>\n",
              "      <td>49</td>\n",
              "      <td>3.9</td>\n",
              "      <td>19</td>\n",
              "      <td>0</td>\n",
              "      <td>61</td>\n",
              "      <td>119</td>\n",
              "      <td>22.5</td>\n",
              "      <td>118</td>\n",
              "      <td>70</td>\n",
              "      <td>32</td>\n",
              "      <td>38</td>\n",
              "      <td>0.84</td>\n",
              "      <td>0</td>\n",
              "    </tr>\n",
              "    <tr>\n",
              "      <th>1</th>\n",
              "      <td>2</td>\n",
              "      <td>146</td>\n",
              "      <td>79</td>\n",
              "      <td>41</td>\n",
              "      <td>3.6</td>\n",
              "      <td>19</td>\n",
              "      <td>0</td>\n",
              "      <td>60</td>\n",
              "      <td>135</td>\n",
              "      <td>26.4</td>\n",
              "      <td>108</td>\n",
              "      <td>58</td>\n",
              "      <td>33</td>\n",
              "      <td>40</td>\n",
              "      <td>0.83</td>\n",
              "      <td>0</td>\n",
              "    </tr>\n",
              "    <tr>\n",
              "      <th>2</th>\n",
              "      <td>3</td>\n",
              "      <td>217</td>\n",
              "      <td>75</td>\n",
              "      <td>54</td>\n",
              "      <td>4.0</td>\n",
              "      <td>20</td>\n",
              "      <td>0</td>\n",
              "      <td>67</td>\n",
              "      <td>187</td>\n",
              "      <td>29.3</td>\n",
              "      <td>110</td>\n",
              "      <td>72</td>\n",
              "      <td>40</td>\n",
              "      <td>45</td>\n",
              "      <td>0.89</td>\n",
              "      <td>0</td>\n",
              "    </tr>\n",
              "    <tr>\n",
              "      <th>3</th>\n",
              "      <td>4</td>\n",
              "      <td>226</td>\n",
              "      <td>97</td>\n",
              "      <td>70</td>\n",
              "      <td>3.2</td>\n",
              "      <td>20</td>\n",
              "      <td>0</td>\n",
              "      <td>64</td>\n",
              "      <td>114</td>\n",
              "      <td>19.6</td>\n",
              "      <td>122</td>\n",
              "      <td>64</td>\n",
              "      <td>31</td>\n",
              "      <td>39</td>\n",
              "      <td>0.79</td>\n",
              "      <td>0</td>\n",
              "    </tr>\n",
              "    <tr>\n",
              "      <th>4</th>\n",
              "      <td>5</td>\n",
              "      <td>164</td>\n",
              "      <td>91</td>\n",
              "      <td>67</td>\n",
              "      <td>2.4</td>\n",
              "      <td>20</td>\n",
              "      <td>0</td>\n",
              "      <td>70</td>\n",
              "      <td>141</td>\n",
              "      <td>20.2</td>\n",
              "      <td>122</td>\n",
              "      <td>86</td>\n",
              "      <td>32</td>\n",
              "      <td>39</td>\n",
              "      <td>0.82</td>\n",
              "      <td>0</td>\n",
              "    </tr>\n",
              "  </tbody>\n",
              "</table>\n",
              "</div>"
            ],
            "text/plain": [
              "   Patient number  Cholesterol  Glucose  HDL Chol  Chol/HDL ratio  Age  \\\n",
              "0               1          193       77        49             3.9   19   \n",
              "1               2          146       79        41             3.6   19   \n",
              "2               3          217       75        54             4.0   20   \n",
              "3               4          226       97        70             3.2   20   \n",
              "4               5          164       91        67             2.4   20   \n",
              "\n",
              "   Gender  Height  Weight   BMI  Systolic BP  Diastolic BP  waist  hip  \\\n",
              "0       0      61     119  22.5          118            70     32   38   \n",
              "1       0      60     135  26.4          108            58     33   40   \n",
              "2       0      67     187  29.3          110            72     40   45   \n",
              "3       0      64     114  19.6          122            64     31   39   \n",
              "4       0      70     141  20.2          122            86     32   39   \n",
              "\n",
              "   Waist/hip ratio  Diabetes  \n",
              "0             0.84         0  \n",
              "1             0.83         0  \n",
              "2             0.89         0  \n",
              "3             0.79         0  \n",
              "4             0.82         0  "
            ]
          },
          "execution_count": 7,
          "metadata": {},
          "output_type": "execute_result"
        }
      ],
      "source": [
        "values1={'No diabetes':0,'Diabetes':1} \n",
        "data['Diabetes']=data['Diabetes'].replace(values1)\n",
        "values2={'female':0,'male':1} \n",
        "data['Gender']=data['Gender'].replace(values2)\n",
        "data.head()"
      ]
    },
    {
      "cell_type": "markdown",
      "metadata": {
        "id": "cZL8jDLGtbHF"
      },
      "source": [
        "Drop the `Patient number` because it is not relevant to use "
      ]
    },
    {
      "cell_type": "code",
      "execution_count": null,
      "metadata": {
        "id": "VqxpIZjhtbHG"
      },
      "outputs": [],
      "source": [
        "data.drop(['Patient number'], axis=1, inplace=True)"
      ]
    },
    {
      "cell_type": "markdown",
      "metadata": {
        "id": "3T2_K5kMtbHG"
      },
      "source": [
        "Show statistics of the data"
      ]
    },
    {
      "cell_type": "code",
      "execution_count": null,
      "metadata": {
        "id": "-qB4-OcHtbHG",
        "outputId": "5bd38f31-b313-4760-c153-98ce929ced72"
      },
      "outputs": [
        {
          "data": {
            "text/html": [
              "<div>\n",
              "<style scoped>\n",
              "    .dataframe tbody tr th:only-of-type {\n",
              "        vertical-align: middle;\n",
              "    }\n",
              "\n",
              "    .dataframe tbody tr th {\n",
              "        vertical-align: top;\n",
              "    }\n",
              "\n",
              "    .dataframe thead th {\n",
              "        text-align: right;\n",
              "    }\n",
              "</style>\n",
              "<table border=\"1\" class=\"dataframe\">\n",
              "  <thead>\n",
              "    <tr style=\"text-align: right;\">\n",
              "      <th></th>\n",
              "      <th>Cholesterol</th>\n",
              "      <th>Glucose</th>\n",
              "      <th>HDL Chol</th>\n",
              "      <th>Chol/HDL ratio</th>\n",
              "      <th>Age</th>\n",
              "      <th>Height</th>\n",
              "      <th>Weight</th>\n",
              "      <th>BMI</th>\n",
              "      <th>Systolic BP</th>\n",
              "      <th>Diastolic BP</th>\n",
              "      <th>waist</th>\n",
              "      <th>hip</th>\n",
              "      <th>Waist/hip ratio</th>\n",
              "    </tr>\n",
              "  </thead>\n",
              "  <tbody>\n",
              "    <tr>\n",
              "      <th>count</th>\n",
              "      <td>390.000</td>\n",
              "      <td>390.000</td>\n",
              "      <td>390.000</td>\n",
              "      <td>390.000</td>\n",
              "      <td>390.000</td>\n",
              "      <td>390.000</td>\n",
              "      <td>390.000</td>\n",
              "      <td>390.000</td>\n",
              "      <td>390.000</td>\n",
              "      <td>390.000</td>\n",
              "      <td>390.000</td>\n",
              "      <td>390.000</td>\n",
              "      <td>390.000</td>\n",
              "    </tr>\n",
              "    <tr>\n",
              "      <th>mean</th>\n",
              "      <td>207.231</td>\n",
              "      <td>107.338</td>\n",
              "      <td>50.267</td>\n",
              "      <td>4.525</td>\n",
              "      <td>46.774</td>\n",
              "      <td>65.951</td>\n",
              "      <td>177.408</td>\n",
              "      <td>28.776</td>\n",
              "      <td>137.133</td>\n",
              "      <td>83.290</td>\n",
              "      <td>37.869</td>\n",
              "      <td>42.992</td>\n",
              "      <td>0.881</td>\n",
              "    </tr>\n",
              "    <tr>\n",
              "      <th>std</th>\n",
              "      <td>44.666</td>\n",
              "      <td>53.798</td>\n",
              "      <td>17.279</td>\n",
              "      <td>1.737</td>\n",
              "      <td>16.436</td>\n",
              "      <td>3.919</td>\n",
              "      <td>40.408</td>\n",
              "      <td>6.601</td>\n",
              "      <td>22.860</td>\n",
              "      <td>13.498</td>\n",
              "      <td>5.761</td>\n",
              "      <td>5.664</td>\n",
              "      <td>0.073</td>\n",
              "    </tr>\n",
              "    <tr>\n",
              "      <th>min</th>\n",
              "      <td>78.000</td>\n",
              "      <td>48.000</td>\n",
              "      <td>12.000</td>\n",
              "      <td>1.500</td>\n",
              "      <td>19.000</td>\n",
              "      <td>52.000</td>\n",
              "      <td>99.000</td>\n",
              "      <td>15.200</td>\n",
              "      <td>90.000</td>\n",
              "      <td>48.000</td>\n",
              "      <td>26.000</td>\n",
              "      <td>30.000</td>\n",
              "      <td>0.680</td>\n",
              "    </tr>\n",
              "    <tr>\n",
              "      <th>25%</th>\n",
              "      <td>179.000</td>\n",
              "      <td>81.000</td>\n",
              "      <td>38.000</td>\n",
              "      <td>3.200</td>\n",
              "      <td>34.000</td>\n",
              "      <td>63.000</td>\n",
              "      <td>150.250</td>\n",
              "      <td>24.100</td>\n",
              "      <td>122.000</td>\n",
              "      <td>75.000</td>\n",
              "      <td>33.000</td>\n",
              "      <td>39.000</td>\n",
              "      <td>0.830</td>\n",
              "    </tr>\n",
              "    <tr>\n",
              "      <th>50%</th>\n",
              "      <td>203.000</td>\n",
              "      <td>90.000</td>\n",
              "      <td>46.000</td>\n",
              "      <td>4.200</td>\n",
              "      <td>44.500</td>\n",
              "      <td>66.000</td>\n",
              "      <td>173.000</td>\n",
              "      <td>27.800</td>\n",
              "      <td>136.000</td>\n",
              "      <td>82.000</td>\n",
              "      <td>37.000</td>\n",
              "      <td>42.000</td>\n",
              "      <td>0.880</td>\n",
              "    </tr>\n",
              "    <tr>\n",
              "      <th>75%</th>\n",
              "      <td>229.000</td>\n",
              "      <td>107.750</td>\n",
              "      <td>59.000</td>\n",
              "      <td>5.400</td>\n",
              "      <td>60.000</td>\n",
              "      <td>69.000</td>\n",
              "      <td>200.000</td>\n",
              "      <td>32.275</td>\n",
              "      <td>148.000</td>\n",
              "      <td>90.000</td>\n",
              "      <td>41.000</td>\n",
              "      <td>46.000</td>\n",
              "      <td>0.930</td>\n",
              "    </tr>\n",
              "    <tr>\n",
              "      <th>max</th>\n",
              "      <td>443.000</td>\n",
              "      <td>385.000</td>\n",
              "      <td>120.000</td>\n",
              "      <td>19.300</td>\n",
              "      <td>92.000</td>\n",
              "      <td>76.000</td>\n",
              "      <td>325.000</td>\n",
              "      <td>55.800</td>\n",
              "      <td>250.000</td>\n",
              "      <td>124.000</td>\n",
              "      <td>56.000</td>\n",
              "      <td>64.000</td>\n",
              "      <td>1.140</td>\n",
              "    </tr>\n",
              "  </tbody>\n",
              "</table>\n",
              "</div>"
            ],
            "text/plain": [
              "       Cholesterol  Glucose  HDL Chol  Chol/HDL ratio      Age   Height  \\\n",
              "count      390.000  390.000   390.000         390.000  390.000  390.000   \n",
              "mean       207.231  107.338    50.267           4.525   46.774   65.951   \n",
              "std         44.666   53.798    17.279           1.737   16.436    3.919   \n",
              "min         78.000   48.000    12.000           1.500   19.000   52.000   \n",
              "25%        179.000   81.000    38.000           3.200   34.000   63.000   \n",
              "50%        203.000   90.000    46.000           4.200   44.500   66.000   \n",
              "75%        229.000  107.750    59.000           5.400   60.000   69.000   \n",
              "max        443.000  385.000   120.000          19.300   92.000   76.000   \n",
              "\n",
              "        Weight      BMI  Systolic BP  Diastolic BP    waist      hip  \\\n",
              "count  390.000  390.000      390.000       390.000  390.000  390.000   \n",
              "mean   177.408   28.776      137.133        83.290   37.869   42.992   \n",
              "std     40.408    6.601       22.860        13.498    5.761    5.664   \n",
              "min     99.000   15.200       90.000        48.000   26.000   30.000   \n",
              "25%    150.250   24.100      122.000        75.000   33.000   39.000   \n",
              "50%    173.000   27.800      136.000        82.000   37.000   42.000   \n",
              "75%    200.000   32.275      148.000        90.000   41.000   46.000   \n",
              "max    325.000   55.800      250.000       124.000   56.000   64.000   \n",
              "\n",
              "       Waist/hip ratio  \n",
              "count          390.000  \n",
              "mean             0.881  \n",
              "std              0.073  \n",
              "min              0.680  \n",
              "25%              0.830  \n",
              "50%              0.880  \n",
              "75%              0.930  \n",
              "max              1.140  "
            ]
          },
          "execution_count": 12,
          "metadata": {},
          "output_type": "execute_result"
        }
      ],
      "source": [
        "data.describe().round(3)"
      ]
    },
    {
      "cell_type": "markdown",
      "metadata": {
        "id": "m2Z7JnrwtbHI"
      },
      "source": [
        "Import a new package and define **target_boxplot** to visualize the data"
      ]
    },
    {
      "cell_type": "code",
      "execution_count": null,
      "metadata": {
        "id": "KXYIJPWwtbHJ"
      },
      "outputs": [],
      "source": [
        "import matplotlib.pyplot as plt\n",
        "def target_boxplot(data, variable, target='Target', plotsize=(8, 8), colors=['yellow', 'purple'], labels=['No', 'Yes'], limits=None):\n",
        "    fig, ax = plt.subplots(figsize=plotsize)\n",
        "    \n",
        "    bp = sns.boxplot(x=target, y=variable, data=data, showmeans=True, meanline=True, \n",
        "                     palette=colors, width=0.3,\n",
        "                     flierprops=dict(marker='o', markerfacecolor='red', markeredgecolor='white', alpha=0.5),\n",
        "                     meanprops=dict(linestyle='-', linewidth=2, color='orange'),\n",
        "                     medianprops=dict(linestyle='-', linewidth=2, color='white'), \n",
        "                     boxprops=dict(linewidth=0, alpha=0.7))\n",
        "    \n",
        "    bp.set(xticklabels=labels, ylim=limits)\n",
        "    \n",
        "    plt.show()"
      ]
    },
    {
      "cell_type": "markdown",
      "metadata": {
        "id": "n1eOZraytbHK"
      },
      "source": [
        "Make `Diabetes` as the response variable while the others (except `Gender` because it is categorical variable) as the independent variable. We use boxplot to see the difference of mean between diabetics and non-diabetics people based on independent variables."
      ]
    },
    {
      "cell_type": "code",
      "execution_count": null,
      "metadata": {
        "id": "39deOV08tbHL",
        "outputId": "dd171ab8-9cfc-4f62-eb8a-f2aa39d51bcc"
      },
      "outputs": [
        {
          "data": {
            "text/plain": [
              "<Figure size 432x288 with 0 Axes>"
            ]
          },
          "metadata": {},
          "output_type": "display_data"
        },
        {
          "data": {
            "image/png": "[encoded data removed]",
            "text/plain": [
              "<Figure size 576x576 with 1 Axes>"
            ]
          },
          "metadata": {
            "needs_background": "light"
          },
          "output_type": "display_data"
        },
        {
          "data": {
            "text/plain": [
              "<Figure size 432x288 with 0 Axes>"
            ]
          },
          "metadata": {},
          "output_type": "display_data"
        },
        {
          "data": {
            "image/png": "[encoded data removed]",
            "text/plain": [
              "<Figure size 576x576 with 1 Axes>"
            ]
          },
          "metadata": {
            "needs_background": "light"
          },
          "output_type": "display_data"
        },
        {
          "data": {
            "text/plain": [
              "<Figure size 432x288 with 0 Axes>"
            ]
          },
          "metadata": {},
          "output_type": "display_data"
        },
        {
          "data": {
            "image/png": "[encoded data removed]",
            "text/plain": [
              "<Figure size 576x576 with 1 Axes>"
            ]
          },
          "metadata": {
            "needs_background": "light"
          },
          "output_type": "display_data"
        },
        {
          "data": {
            "text/plain": [
              "<Figure size 432x288 with 0 Axes>"
            ]
          },
          "metadata": {},
          "output_type": "display_data"
        },
        {
          "data": {
            "image/png": "[encoded data removed]",
            "text/plain": [
              "<Figure size 576x576 with 1 Axes>"
            ]
          },
          "metadata": {
            "needs_background": "light"
          },
          "output_type": "display_data"
        },
        {
          "data": {
            "text/plain": [
              "<Figure size 432x288 with 0 Axes>"
            ]
          },
          "metadata": {},
          "output_type": "display_data"
        },
        {
          "data": {
            "image/png": "[encoded data removed]",
            "text/plain": [
              "<Figure size 576x576 with 1 Axes>"
            ]
          },
          "metadata": {
            "needs_background": "light"
          },
          "output_type": "display_data"
        },
        {
          "data": {
            "text/plain": [
              "<Figure size 432x288 with 0 Axes>"
            ]
          },
          "metadata": {},
          "output_type": "display_data"
        },
        {
          "data": {
            "image/png": "[encoded data removed]",
            "text/plain": [
              "<Figure size 576x576 with 1 Axes>"
            ]
          },
          "metadata": {
            "needs_background": "light"
          },
          "output_type": "display_data"
        },
        {
          "data": {
            "text/plain": [
              "<Figure size 432x288 with 0 Axes>"
            ]
          },
          "metadata": {},
          "output_type": "display_data"
        },
        {
          "data": {
            "image/png": "[encoded data removed]",
            "text/plain": [
              "<Figure size 576x576 with 1 Axes>"
            ]
          },
          "metadata": {
            "needs_background": "light"
          },
          "output_type": "display_data"
        },
        {
          "data": {
            "text/plain": [
              "<Figure size 432x288 with 0 Axes>"
            ]
          },
          "metadata": {},
          "output_type": "display_data"
        },
        {
          "data": {
            "image/png": "[encoded data removed]",
            "text/plain": [
              "<Figure size 576x576 with 1 Axes>"
            ]
          },
          "metadata": {
            "needs_background": "light"
          },
          "output_type": "display_data"
        },
        {
          "data": {
            "text/plain": [
              "<Figure size 432x288 with 0 Axes>"
            ]
          },
          "metadata": {},
          "output_type": "display_data"
        },
        {
          "data": {
            "image/png": "[encoded data removed]",
            "text/plain": [
              "<Figure size 576x576 with 1 Axes>"
            ]
          },
          "metadata": {
            "needs_background": "light"
          },
          "output_type": "display_data"
        },
        {
          "data": {
            "text/plain": [
              "<Figure size 432x288 with 0 Axes>"
            ]
          },
          "metadata": {},
          "output_type": "display_data"
        },
        {
          "data": {
            "image/png": "[encoded data removed]",
            "text/plain": [
              "<Figure size 576x576 with 1 Axes>"
            ]
          },
          "metadata": {
            "needs_background": "light"
          },
          "output_type": "display_data"
        },
        {
          "data": {
            "text/plain": [
              "<Figure size 432x288 with 0 Axes>"
            ]
          },
          "metadata": {},
          "output_type": "display_data"
        },
        {
          "data": {
            "image/png": "[encoded data removed]",
            "text/plain": [
              "<Figure size 576x576 with 1 Axes>"
            ]
          },
          "metadata": {
            "needs_background": "light"
          },
          "output_type": "display_data"
        },
        {
          "data": {
            "text/plain": [
              "<Figure size 432x288 with 0 Axes>"
            ]
          },
          "metadata": {},
          "output_type": "display_data"
        },
        {
          "data": {
            "image/png": "[encoded data removed]",
            "text/plain": [
              "<Figure size 576x576 with 1 Axes>"
            ]
          },
          "metadata": {
            "needs_background": "light"
          },
          "output_type": "display_data"
        },
        {
          "data": {
            "text/plain": [
              "<Figure size 432x288 with 0 Axes>"
            ]
          },
          "metadata": {},
          "output_type": "display_data"
        },
        {
          "data": {
            "image/png": "[encoded data removed]",
            "text/plain": [
              "<Figure size 576x576 with 1 Axes>"
            ]
          },
          "metadata": {
            "needs_background": "light"
          },
          "output_type": "display_data"
        }
      ],
      "source": [
        "response = 'Diabetes'\n",
        "for var in ['Cholesterol', 'Glucose', 'HDL Chol', 'Chol/HDL ratio', 'Age', 'Height', 'Weight', 'BMI', 'Systolic BP', 'Diastolic BP', 'waist', 'hip', 'Waist/hip ratio']:\n",
        "    plt.figure()\n",
        "    target_boxplot(data, var, target=response, labels=['No diabetes', 'Diabetes'])"
      ]
    },
    {
      "cell_type": "markdown",
      "metadata": {
        "id": "3ML6sqRxtbHN"
      },
      "source": [
        "### Correlation"
      ]
    },
    {
      "cell_type": "markdown",
      "metadata": {
        "id": "VNT1yAiJtbHN"
      },
      "source": [
        "Show the correlation heatmap to see how significant between variables "
      ]
    },
    {
      "cell_type": "code",
      "execution_count": null,
      "metadata": {
        "scrolled": true,
        "id": "eDW32uWQtbHN",
        "outputId": "2bf87158-8fc0-449c-d62e-0054a844ae10"
      },
      "outputs": [
        {
          "data": {
            "image/png": "[encoded data removed]",
            "text/plain": [
              "<Figure size 1152x432 with 2 Axes>"
            ]
          },
          "metadata": {
            "needs_background": "light"
          },
          "output_type": "display_data"
        }
      ],
      "source": [
        "plt.figure(figsize=(16, 6))\n",
        "heatmap = sns.heatmap(data.corr(), vmin=-1, vmax=1, annot=True, cmap='YlOrRd')\n",
        "heatmap.set_title('Correlation Heatmap', fontdict={'fontsize':18}, pad=12);"
      ]
    },
    {
      "cell_type": "markdown",
      "metadata": {
        "id": "PcAkoXeKtbHP"
      },
      "source": [
        "To drop the variables, we need to compare the variables with correlation score above 0.7, and then compare it with `Diabetes`"
      ]
    },
    {
      "cell_type": "code",
      "execution_count": null,
      "metadata": {
        "id": "1KRUzUwFtbHP"
      },
      "outputs": [],
      "source": [
        "data.drop(['hip', 'BMI', 'Weight'], axis=1, inplace=True)"
      ]
    },
    {
      "cell_type": "code",
      "execution_count": null,
      "metadata": {
        "id": "teGvpPNatbHQ",
        "outputId": "9b8fd000-0483-4037-ef81-d1b70c91c1ca"
      },
      "outputs": [
        {
          "name": "stdout",
          "output_type": "stream",
          "text": [
            "<class 'pandas.core.frame.DataFrame'>\n",
            "RangeIndex: 390 entries, 0 to 389\n",
            "Data columns (total 12 columns):\n",
            " #   Column           Non-Null Count  Dtype   \n",
            "---  ------           --------------  -----   \n",
            " 0   Cholesterol      390 non-null    int64   \n",
            " 1   Glucose          390 non-null    int64   \n",
            " 2   HDL Chol         390 non-null    int64   \n",
            " 3   Chol/HDL ratio   390 non-null    float64 \n",
            " 4   Age              390 non-null    int32   \n",
            " 5   Gender           390 non-null    int64   \n",
            " 6   Height           390 non-null    int64   \n",
            " 7   Systolic BP      390 non-null    int64   \n",
            " 8   Diastolic BP     390 non-null    int64   \n",
            " 9   waist            390 non-null    int64   \n",
            " 10  Waist/hip ratio  390 non-null    float64 \n",
            " 11  Diabetes         390 non-null    category\n",
            "dtypes: category(1), float64(2), int32(1), int64(8)\n",
            "memory usage: 32.6 KB\n"
          ]
        }
      ],
      "source": [
        "data2=data.astype({'Diabetes':'category'})\n",
        "data2.info()"
      ]
    },
    {
      "cell_type": "markdown",
      "metadata": {
        "id": "Fu8OqOiwtbHR"
      },
      "source": [
        "Import ppscore to see whether between the independent variables have high correlation or not"
      ]
    },
    {
      "cell_type": "code",
      "execution_count": null,
      "metadata": {
        "id": "KuItrWWBtbHS"
      },
      "outputs": [],
      "source": [
        "import ppscore as pps\n",
        "\n",
        "pps_mtx = pps.matrix(data2)"
      ]
    },
    {
      "cell_type": "code",
      "execution_count": null,
      "metadata": {
        "id": "au-tWaf4tbHS",
        "outputId": "f15d8264-6ef6-41c1-83a9-a31b2d162fd9"
      },
      "outputs": [
        {
          "data": {
            "text/html": [
              "<div>\n",
              "<style scoped>\n",
              "    .dataframe tbody tr th:only-of-type {\n",
              "        vertical-align: middle;\n",
              "    }\n",
              "\n",
              "    .dataframe tbody tr th {\n",
              "        vertical-align: top;\n",
              "    }\n",
              "\n",
              "    .dataframe thead th {\n",
              "        text-align: right;\n",
              "    }\n",
              "</style>\n",
              "<table border=\"1\" class=\"dataframe\">\n",
              "  <thead>\n",
              "    <tr style=\"text-align: right;\">\n",
              "      <th></th>\n",
              "      <th>x</th>\n",
              "      <th>y</th>\n",
              "      <th>ppscore</th>\n",
              "      <th>case</th>\n",
              "      <th>is_valid_score</th>\n",
              "      <th>metric</th>\n",
              "      <th>baseline_score</th>\n",
              "      <th>model_score</th>\n",
              "      <th>model</th>\n",
              "    </tr>\n",
              "  </thead>\n",
              "  <tbody>\n",
              "    <tr>\n",
              "      <th>0</th>\n",
              "      <td>Glucose</td>\n",
              "      <td>Diabetes</td>\n",
              "      <td>0.434266</td>\n",
              "      <td>classification</td>\n",
              "      <td>True</td>\n",
              "      <td>weighted F1</td>\n",
              "      <td>0.775641</td>\n",
              "      <td>0.873073</td>\n",
              "      <td>DecisionTreeClassifier()</td>\n",
              "    </tr>\n",
              "    <tr>\n",
              "      <th>1</th>\n",
              "      <td>Cholesterol</td>\n",
              "      <td>Diabetes</td>\n",
              "      <td>0.088439</td>\n",
              "      <td>classification</td>\n",
              "      <td>True</td>\n",
              "      <td>weighted F1</td>\n",
              "      <td>0.775641</td>\n",
              "      <td>0.795483</td>\n",
              "      <td>DecisionTreeClassifier()</td>\n",
              "    </tr>\n",
              "    <tr>\n",
              "      <th>2</th>\n",
              "      <td>waist</td>\n",
              "      <td>Diabetes</td>\n",
              "      <td>0.052491</td>\n",
              "      <td>classification</td>\n",
              "      <td>True</td>\n",
              "      <td>weighted F1</td>\n",
              "      <td>0.775641</td>\n",
              "      <td>0.787418</td>\n",
              "      <td>DecisionTreeClassifier()</td>\n",
              "    </tr>\n",
              "    <tr>\n",
              "      <th>3</th>\n",
              "      <td>Chol/HDL ratio</td>\n",
              "      <td>Diabetes</td>\n",
              "      <td>0.022225</td>\n",
              "      <td>classification</td>\n",
              "      <td>True</td>\n",
              "      <td>weighted F1</td>\n",
              "      <td>0.775641</td>\n",
              "      <td>0.780627</td>\n",
              "      <td>DecisionTreeClassifier()</td>\n",
              "    </tr>\n",
              "    <tr>\n",
              "      <th>4</th>\n",
              "      <td>HDL Chol</td>\n",
              "      <td>Diabetes</td>\n",
              "      <td>0.019620</td>\n",
              "      <td>classification</td>\n",
              "      <td>True</td>\n",
              "      <td>weighted F1</td>\n",
              "      <td>0.775641</td>\n",
              "      <td>0.780043</td>\n",
              "      <td>DecisionTreeClassifier()</td>\n",
              "    </tr>\n",
              "    <tr>\n",
              "      <th>5</th>\n",
              "      <td>Waist/hip ratio</td>\n",
              "      <td>Diabetes</td>\n",
              "      <td>0.009727</td>\n",
              "      <td>classification</td>\n",
              "      <td>True</td>\n",
              "      <td>weighted F1</td>\n",
              "      <td>0.775641</td>\n",
              "      <td>0.777823</td>\n",
              "      <td>DecisionTreeClassifier()</td>\n",
              "    </tr>\n",
              "    <tr>\n",
              "      <th>6</th>\n",
              "      <td>Age</td>\n",
              "      <td>Diabetes</td>\n",
              "      <td>0.000000</td>\n",
              "      <td>classification</td>\n",
              "      <td>True</td>\n",
              "      <td>weighted F1</td>\n",
              "      <td>0.775641</td>\n",
              "      <td>0.765783</td>\n",
              "      <td>DecisionTreeClassifier()</td>\n",
              "    </tr>\n",
              "    <tr>\n",
              "      <th>7</th>\n",
              "      <td>Gender</td>\n",
              "      <td>Diabetes</td>\n",
              "      <td>0.000000</td>\n",
              "      <td>classification</td>\n",
              "      <td>True</td>\n",
              "      <td>weighted F1</td>\n",
              "      <td>0.775641</td>\n",
              "      <td>0.775636</td>\n",
              "      <td>DecisionTreeClassifier()</td>\n",
              "    </tr>\n",
              "    <tr>\n",
              "      <th>8</th>\n",
              "      <td>Height</td>\n",
              "      <td>Diabetes</td>\n",
              "      <td>0.000000</td>\n",
              "      <td>classification</td>\n",
              "      <td>True</td>\n",
              "      <td>weighted F1</td>\n",
              "      <td>0.775641</td>\n",
              "      <td>0.775636</td>\n",
              "      <td>DecisionTreeClassifier()</td>\n",
              "    </tr>\n",
              "    <tr>\n",
              "      <th>9</th>\n",
              "      <td>Systolic BP</td>\n",
              "      <td>Diabetes</td>\n",
              "      <td>0.000000</td>\n",
              "      <td>classification</td>\n",
              "      <td>True</td>\n",
              "      <td>weighted F1</td>\n",
              "      <td>0.775641</td>\n",
              "      <td>0.767134</td>\n",
              "      <td>DecisionTreeClassifier()</td>\n",
              "    </tr>\n",
              "    <tr>\n",
              "      <th>10</th>\n",
              "      <td>Diastolic BP</td>\n",
              "      <td>Diabetes</td>\n",
              "      <td>0.000000</td>\n",
              "      <td>classification</td>\n",
              "      <td>True</td>\n",
              "      <td>weighted F1</td>\n",
              "      <td>0.775641</td>\n",
              "      <td>0.771788</td>\n",
              "      <td>DecisionTreeClassifier()</td>\n",
              "    </tr>\n",
              "  </tbody>\n",
              "</table>\n",
              "</div>"
            ],
            "text/plain": [
              "                  x         y   ppscore            case  is_valid_score  \\\n",
              "0           Glucose  Diabetes  0.434266  classification            True   \n",
              "1       Cholesterol  Diabetes  0.088439  classification            True   \n",
              "2             waist  Diabetes  0.052491  classification            True   \n",
              "3    Chol/HDL ratio  Diabetes  0.022225  classification            True   \n",
              "4          HDL Chol  Diabetes  0.019620  classification            True   \n",
              "5   Waist/hip ratio  Diabetes  0.009727  classification            True   \n",
              "6               Age  Diabetes  0.000000  classification            True   \n",
              "7            Gender  Diabetes  0.000000  classification            True   \n",
              "8            Height  Diabetes  0.000000  classification            True   \n",
              "9       Systolic BP  Diabetes  0.000000  classification            True   \n",
              "10     Diastolic BP  Diabetes  0.000000  classification            True   \n",
              "\n",
              "         metric  baseline_score  model_score                     model  \n",
              "0   weighted F1        0.775641     0.873073  DecisionTreeClassifier()  \n",
              "1   weighted F1        0.775641     0.795483  DecisionTreeClassifier()  \n",
              "2   weighted F1        0.775641     0.787418  DecisionTreeClassifier()  \n",
              "3   weighted F1        0.775641     0.780627  DecisionTreeClassifier()  \n",
              "4   weighted F1        0.775641     0.780043  DecisionTreeClassifier()  \n",
              "5   weighted F1        0.775641     0.777823  DecisionTreeClassifier()  \n",
              "6   weighted F1        0.775641     0.765783  DecisionTreeClassifier()  \n",
              "7   weighted F1        0.775641     0.775636  DecisionTreeClassifier()  \n",
              "8   weighted F1        0.775641     0.775636  DecisionTreeClassifier()  \n",
              "9   weighted F1        0.775641     0.767134  DecisionTreeClassifier()  \n",
              "10  weighted F1        0.775641     0.771788  DecisionTreeClassifier()  "
            ]
          },
          "execution_count": 16,
          "metadata": {},
          "output_type": "execute_result"
        }
      ],
      "source": [
        "pps_predictors2target = pps_mtx[(pps_mtx['x'] != 'Diabetes') & (pps_mtx['y'] == 'Diabetes')].copy()\n",
        "pps_predictors2target.sort_values(by='ppscore', ascending=False, inplace=True)\n",
        "pps_predictors2target.reset_index(drop=True, inplace=True)\n",
        "pps_predictors2target"
      ]
    },
    {
      "cell_type": "code",
      "execution_count": null,
      "metadata": {
        "id": "oka18Si1tbHT",
        "outputId": "40f22281-1f28-4637-9934-823b9a152ab4"
      },
      "outputs": [
        {
          "data": {
            "text/html": [
              "<div>\n",
              "<style scoped>\n",
              "    .dataframe tbody tr th:only-of-type {\n",
              "        vertical-align: middle;\n",
              "    }\n",
              "\n",
              "    .dataframe tbody tr th {\n",
              "        vertical-align: top;\n",
              "    }\n",
              "\n",
              "    .dataframe thead th {\n",
              "        text-align: right;\n",
              "    }\n",
              "</style>\n",
              "<table border=\"1\" class=\"dataframe\">\n",
              "  <thead>\n",
              "    <tr style=\"text-align: right;\">\n",
              "      <th></th>\n",
              "      <th>x</th>\n",
              "      <th>y</th>\n",
              "      <th>ppscore</th>\n",
              "    </tr>\n",
              "  </thead>\n",
              "  <tbody>\n",
              "    <tr>\n",
              "      <th>0</th>\n",
              "      <td>Height</td>\n",
              "      <td>Gender</td>\n",
              "      <td>0.464528</td>\n",
              "    </tr>\n",
              "    <tr>\n",
              "      <th>1</th>\n",
              "      <td>Glucose</td>\n",
              "      <td>Diabetes</td>\n",
              "      <td>0.434266</td>\n",
              "    </tr>\n",
              "    <tr>\n",
              "      <th>2</th>\n",
              "      <td>Chol/HDL ratio</td>\n",
              "      <td>HDL Chol</td>\n",
              "      <td>0.362831</td>\n",
              "    </tr>\n",
              "    <tr>\n",
              "      <th>3</th>\n",
              "      <td>HDL Chol</td>\n",
              "      <td>Chol/HDL ratio</td>\n",
              "      <td>0.338472</td>\n",
              "    </tr>\n",
              "    <tr>\n",
              "      <th>4</th>\n",
              "      <td>Gender</td>\n",
              "      <td>Height</td>\n",
              "      <td>0.322389</td>\n",
              "    </tr>\n",
              "    <tr>\n",
              "      <th>5</th>\n",
              "      <td>Diabetes</td>\n",
              "      <td>Glucose</td>\n",
              "      <td>0.206023</td>\n",
              "    </tr>\n",
              "    <tr>\n",
              "      <th>6</th>\n",
              "      <td>Waist/hip ratio</td>\n",
              "      <td>waist</td>\n",
              "      <td>0.156070</td>\n",
              "    </tr>\n",
              "    <tr>\n",
              "      <th>7</th>\n",
              "      <td>Systolic BP</td>\n",
              "      <td>Diastolic BP</td>\n",
              "      <td>0.144289</td>\n",
              "    </tr>\n",
              "    <tr>\n",
              "      <th>8</th>\n",
              "      <td>Diastolic BP</td>\n",
              "      <td>Systolic BP</td>\n",
              "      <td>0.134707</td>\n",
              "    </tr>\n",
              "    <tr>\n",
              "      <th>9</th>\n",
              "      <td>Cholesterol</td>\n",
              "      <td>Diabetes</td>\n",
              "      <td>0.088439</td>\n",
              "    </tr>\n",
              "    <tr>\n",
              "      <th>10</th>\n",
              "      <td>Diabetes</td>\n",
              "      <td>Age</td>\n",
              "      <td>0.066614</td>\n",
              "    </tr>\n",
              "    <tr>\n",
              "      <th>11</th>\n",
              "      <td>waist</td>\n",
              "      <td>Waist/hip ratio</td>\n",
              "      <td>0.061041</td>\n",
              "    </tr>\n",
              "    <tr>\n",
              "      <th>12</th>\n",
              "      <td>Systolic BP</td>\n",
              "      <td>Age</td>\n",
              "      <td>0.053313</td>\n",
              "    </tr>\n",
              "    <tr>\n",
              "      <th>13</th>\n",
              "      <td>Gender</td>\n",
              "      <td>Waist/hip ratio</td>\n",
              "      <td>0.052564</td>\n",
              "    </tr>\n",
              "    <tr>\n",
              "      <th>14</th>\n",
              "      <td>waist</td>\n",
              "      <td>Diabetes</td>\n",
              "      <td>0.052491</td>\n",
              "    </tr>\n",
              "    <tr>\n",
              "      <th>15</th>\n",
              "      <td>waist</td>\n",
              "      <td>Chol/HDL ratio</td>\n",
              "      <td>0.033259</td>\n",
              "    </tr>\n",
              "    <tr>\n",
              "      <th>16</th>\n",
              "      <td>Chol/HDL ratio</td>\n",
              "      <td>Diabetes</td>\n",
              "      <td>0.022225</td>\n",
              "    </tr>\n",
              "    <tr>\n",
              "      <th>17</th>\n",
              "      <td>Diabetes</td>\n",
              "      <td>Systolic BP</td>\n",
              "      <td>0.021976</td>\n",
              "    </tr>\n",
              "    <tr>\n",
              "      <th>18</th>\n",
              "      <td>HDL Chol</td>\n",
              "      <td>Diabetes</td>\n",
              "      <td>0.019620</td>\n",
              "    </tr>\n",
              "    <tr>\n",
              "      <th>19</th>\n",
              "      <td>Diabetes</td>\n",
              "      <td>waist</td>\n",
              "      <td>0.013675</td>\n",
              "    </tr>\n",
              "    <tr>\n",
              "      <th>20</th>\n",
              "      <td>Diabetes</td>\n",
              "      <td>Chol/HDL ratio</td>\n",
              "      <td>0.012003</td>\n",
              "    </tr>\n",
              "    <tr>\n",
              "      <th>21</th>\n",
              "      <td>Waist/hip ratio</td>\n",
              "      <td>Diabetes</td>\n",
              "      <td>0.009727</td>\n",
              "    </tr>\n",
              "    <tr>\n",
              "      <th>22</th>\n",
              "      <td>Diabetes</td>\n",
              "      <td>Waist/hip ratio</td>\n",
              "      <td>0.009619</td>\n",
              "    </tr>\n",
              "    <tr>\n",
              "      <th>23</th>\n",
              "      <td>Diabetes</td>\n",
              "      <td>Cholesterol</td>\n",
              "      <td>0.006951</td>\n",
              "    </tr>\n",
              "    <tr>\n",
              "      <th>24</th>\n",
              "      <td>Age</td>\n",
              "      <td>Systolic BP</td>\n",
              "      <td>0.003428</td>\n",
              "    </tr>\n",
              "    <tr>\n",
              "      <th>25</th>\n",
              "      <td>Gender</td>\n",
              "      <td>Age</td>\n",
              "      <td>0.000022</td>\n",
              "    </tr>\n",
              "  </tbody>\n",
              "</table>\n",
              "</div>"
            ],
            "text/plain": [
              "                  x                y   ppscore\n",
              "0            Height           Gender  0.464528\n",
              "1           Glucose         Diabetes  0.434266\n",
              "2    Chol/HDL ratio         HDL Chol  0.362831\n",
              "3          HDL Chol   Chol/HDL ratio  0.338472\n",
              "4            Gender           Height  0.322389\n",
              "5          Diabetes          Glucose  0.206023\n",
              "6   Waist/hip ratio            waist  0.156070\n",
              "7       Systolic BP     Diastolic BP  0.144289\n",
              "8      Diastolic BP      Systolic BP  0.134707\n",
              "9       Cholesterol         Diabetes  0.088439\n",
              "10         Diabetes              Age  0.066614\n",
              "11            waist  Waist/hip ratio  0.061041\n",
              "12      Systolic BP              Age  0.053313\n",
              "13           Gender  Waist/hip ratio  0.052564\n",
              "14            waist         Diabetes  0.052491\n",
              "15            waist   Chol/HDL ratio  0.033259\n",
              "16   Chol/HDL ratio         Diabetes  0.022225\n",
              "17         Diabetes      Systolic BP  0.021976\n",
              "18         HDL Chol         Diabetes  0.019620\n",
              "19         Diabetes            waist  0.013675\n",
              "20         Diabetes   Chol/HDL ratio  0.012003\n",
              "21  Waist/hip ratio         Diabetes  0.009727\n",
              "22         Diabetes  Waist/hip ratio  0.009619\n",
              "23         Diabetes      Cholesterol  0.006951\n",
              "24              Age      Systolic BP  0.003428\n",
              "25           Gender              Age  0.000022"
            ]
          },
          "execution_count": 17,
          "metadata": {},
          "output_type": "execute_result"
        }
      ],
      "source": [
        "score=pps_mtx.loc[(pps_mtx['ppscore'] > 0) & (pps_mtx['ppscore'] < 1)]\n",
        "score=score[['x','y','ppscore']]\n",
        "score.sort_values(by='ppscore',ascending=False,ignore_index=True)"
      ]
    },
    {
      "cell_type": "markdown",
      "metadata": {
        "id": "pBht9YaHtbHU"
      },
      "source": [
        "### Multicollinearity"
      ]
    },
    {
      "cell_type": "markdown",
      "metadata": {
        "id": "OoblPdeQtbHU"
      },
      "source": [
        "Show the relationship between the independent variable with VIF values"
      ]
    },
    {
      "cell_type": "code",
      "execution_count": null,
      "metadata": {
        "id": "srBXao1LtbHV"
      },
      "outputs": [],
      "source": [
        "def VIF():\n",
        "    target='Diabetes'\n",
        "    features = [col for col in data.columns if col not in target]\n",
        "\n",
        "\n",
        "    X_train = data[features]\n",
        "    from statsmodels.stats.outliers_influence import variance_inflation_factor\n",
        "\n",
        "    model_variables = X_train.columns\n",
        "    vif_values = [variance_inflation_factor(X_train.values, i) for i in range(X_train.shape[1])]\n",
        "    vif = pd.DataFrame({'Variable': model_variables, 'VIF': vif_values})\n",
        "    vif.sort_values(by='VIF',inplace=True)\n",
        "    return (vif)"
      ]
    },
    {
      "cell_type": "code",
      "execution_count": null,
      "metadata": {
        "id": "eQYKvE0vtbHW"
      },
      "outputs": [],
      "source": [
        "def drop(var):\n",
        "    data.drop([var],axis=1,inplace=True)\n",
        "    VIF()\n",
        "    return(VIF())"
      ]
    },
    {
      "cell_type": "markdown",
      "metadata": {
        "id": "cJERz4xHtbHW"
      },
      "source": [
        "Drop the variables with the highest VIF value one by one"
      ]
    },
    {
      "cell_type": "code",
      "execution_count": null,
      "metadata": {
        "id": "E7UTg3BYtbHX",
        "outputId": "c164e5fd-aa0f-4fa7-dc97-733afb9f0aba"
      },
      "outputs": [
        {
          "data": {
            "text/html": [
              "<div>\n",
              "<style scoped>\n",
              "    .dataframe tbody tr th:only-of-type {\n",
              "        vertical-align: middle;\n",
              "    }\n",
              "\n",
              "    .dataframe tbody tr th {\n",
              "        vertical-align: top;\n",
              "    }\n",
              "\n",
              "    .dataframe thead th {\n",
              "        text-align: right;\n",
              "    }\n",
              "</style>\n",
              "<table border=\"1\" class=\"dataframe\">\n",
              "  <thead>\n",
              "    <tr style=\"text-align: right;\">\n",
              "      <th></th>\n",
              "      <th>Variable</th>\n",
              "      <th>VIF</th>\n",
              "    </tr>\n",
              "  </thead>\n",
              "  <tbody>\n",
              "    <tr>\n",
              "      <th>5</th>\n",
              "      <td>Gender</td>\n",
              "      <td>2.270630</td>\n",
              "    </tr>\n",
              "    <tr>\n",
              "      <th>1</th>\n",
              "      <td>Glucose</td>\n",
              "      <td>5.980730</td>\n",
              "    </tr>\n",
              "    <tr>\n",
              "      <th>4</th>\n",
              "      <td>Age</td>\n",
              "      <td>14.925412</td>\n",
              "    </tr>\n",
              "    <tr>\n",
              "      <th>2</th>\n",
              "      <td>HDL Chol</td>\n",
              "      <td>52.838712</td>\n",
              "    </tr>\n",
              "    <tr>\n",
              "      <th>3</th>\n",
              "      <td>Chol/HDL ratio</td>\n",
              "      <td>54.403171</td>\n",
              "    </tr>\n",
              "    <tr>\n",
              "      <th>8</th>\n",
              "      <td>Diastolic BP</td>\n",
              "      <td>69.346556</td>\n",
              "    </tr>\n",
              "    <tr>\n",
              "      <th>9</th>\n",
              "      <td>waist</td>\n",
              "      <td>76.037883</td>\n",
              "    </tr>\n",
              "    <tr>\n",
              "      <th>7</th>\n",
              "      <td>Systolic BP</td>\n",
              "      <td>80.165642</td>\n",
              "    </tr>\n",
              "    <tr>\n",
              "      <th>0</th>\n",
              "      <td>Cholesterol</td>\n",
              "      <td>87.157728</td>\n",
              "    </tr>\n",
              "    <tr>\n",
              "      <th>6</th>\n",
              "      <td>Height</td>\n",
              "      <td>180.284833</td>\n",
              "    </tr>\n",
              "    <tr>\n",
              "      <th>10</th>\n",
              "      <td>Waist/hip ratio</td>\n",
              "      <td>221.007397</td>\n",
              "    </tr>\n",
              "  </tbody>\n",
              "</table>\n",
              "</div>"
            ],
            "text/plain": [
              "           Variable         VIF\n",
              "5            Gender    2.270630\n",
              "1           Glucose    5.980730\n",
              "4               Age   14.925412\n",
              "2          HDL Chol   52.838712\n",
              "3    Chol/HDL ratio   54.403171\n",
              "8      Diastolic BP   69.346556\n",
              "9             waist   76.037883\n",
              "7       Systolic BP   80.165642\n",
              "0       Cholesterol   87.157728\n",
              "6            Height  180.284833\n",
              "10  Waist/hip ratio  221.007397"
            ]
          },
          "execution_count": 20,
          "metadata": {},
          "output_type": "execute_result"
        }
      ],
      "source": [
        "VIF()"
      ]
    },
    {
      "cell_type": "code",
      "execution_count": null,
      "metadata": {
        "id": "hvBiTfTNtbHY",
        "outputId": "903a4e69-c36b-41c0-e0d2-a00b3545b823"
      },
      "outputs": [
        {
          "data": {
            "text/html": [
              "<div>\n",
              "<style scoped>\n",
              "    .dataframe tbody tr th:only-of-type {\n",
              "        vertical-align: middle;\n",
              "    }\n",
              "\n",
              "    .dataframe tbody tr th {\n",
              "        vertical-align: top;\n",
              "    }\n",
              "\n",
              "    .dataframe thead th {\n",
              "        text-align: right;\n",
              "    }\n",
              "</style>\n",
              "<table border=\"1\" class=\"dataframe\">\n",
              "  <thead>\n",
              "    <tr style=\"text-align: right;\">\n",
              "      <th></th>\n",
              "      <th>Variable</th>\n",
              "      <th>VIF</th>\n",
              "    </tr>\n",
              "  </thead>\n",
              "  <tbody>\n",
              "    <tr>\n",
              "      <th>5</th>\n",
              "      <td>Gender</td>\n",
              "      <td>2.246531</td>\n",
              "    </tr>\n",
              "    <tr>\n",
              "      <th>1</th>\n",
              "      <td>Glucose</td>\n",
              "      <td>5.962819</td>\n",
              "    </tr>\n",
              "    <tr>\n",
              "      <th>4</th>\n",
              "      <td>Age</td>\n",
              "      <td>14.017433</td>\n",
              "    </tr>\n",
              "    <tr>\n",
              "      <th>2</th>\n",
              "      <td>HDL Chol</td>\n",
              "      <td>51.216506</td>\n",
              "    </tr>\n",
              "    <tr>\n",
              "      <th>3</th>\n",
              "      <td>Chol/HDL ratio</td>\n",
              "      <td>52.962812</td>\n",
              "    </tr>\n",
              "    <tr>\n",
              "      <th>9</th>\n",
              "      <td>waist</td>\n",
              "      <td>54.747739</td>\n",
              "    </tr>\n",
              "    <tr>\n",
              "      <th>8</th>\n",
              "      <td>Diastolic BP</td>\n",
              "      <td>69.272056</td>\n",
              "    </tr>\n",
              "    <tr>\n",
              "      <th>7</th>\n",
              "      <td>Systolic BP</td>\n",
              "      <td>80.104134</td>\n",
              "    </tr>\n",
              "    <tr>\n",
              "      <th>0</th>\n",
              "      <td>Cholesterol</td>\n",
              "      <td>86.036688</td>\n",
              "    </tr>\n",
              "    <tr>\n",
              "      <th>6</th>\n",
              "      <td>Height</td>\n",
              "      <td>115.366887</td>\n",
              "    </tr>\n",
              "  </tbody>\n",
              "</table>\n",
              "</div>"
            ],
            "text/plain": [
              "         Variable         VIF\n",
              "5          Gender    2.246531\n",
              "1         Glucose    5.962819\n",
              "4             Age   14.017433\n",
              "2        HDL Chol   51.216506\n",
              "3  Chol/HDL ratio   52.962812\n",
              "9           waist   54.747739\n",
              "8    Diastolic BP   69.272056\n",
              "7     Systolic BP   80.104134\n",
              "0     Cholesterol   86.036688\n",
              "6          Height  115.366887"
            ]
          },
          "execution_count": 21,
          "metadata": {},
          "output_type": "execute_result"
        }
      ],
      "source": [
        "drop('Waist/hip ratio')"
      ]
    },
    {
      "cell_type": "code",
      "execution_count": null,
      "metadata": {
        "id": "d7lpTZCDtbHa",
        "outputId": "5616fd69-5d52-4c2a-aeed-ad2d1f8b7fe2"
      },
      "outputs": [
        {
          "data": {
            "text/html": [
              "<div>\n",
              "<style scoped>\n",
              "    .dataframe tbody tr th:only-of-type {\n",
              "        vertical-align: middle;\n",
              "    }\n",
              "\n",
              "    .dataframe tbody tr th {\n",
              "        vertical-align: top;\n",
              "    }\n",
              "\n",
              "    .dataframe thead th {\n",
              "        text-align: right;\n",
              "    }\n",
              "</style>\n",
              "<table border=\"1\" class=\"dataframe\">\n",
              "  <thead>\n",
              "    <tr style=\"text-align: right;\">\n",
              "      <th></th>\n",
              "      <th>Variable</th>\n",
              "      <th>VIF</th>\n",
              "    </tr>\n",
              "  </thead>\n",
              "  <tbody>\n",
              "    <tr>\n",
              "      <th>5</th>\n",
              "      <td>Gender</td>\n",
              "      <td>1.791857</td>\n",
              "    </tr>\n",
              "    <tr>\n",
              "      <th>1</th>\n",
              "      <td>Glucose</td>\n",
              "      <td>5.961355</td>\n",
              "    </tr>\n",
              "    <tr>\n",
              "      <th>4</th>\n",
              "      <td>Age</td>\n",
              "      <td>13.844028</td>\n",
              "    </tr>\n",
              "    <tr>\n",
              "      <th>2</th>\n",
              "      <td>HDL Chol</td>\n",
              "      <td>35.602974</td>\n",
              "    </tr>\n",
              "    <tr>\n",
              "      <th>8</th>\n",
              "      <td>waist</td>\n",
              "      <td>38.826097</td>\n",
              "    </tr>\n",
              "    <tr>\n",
              "      <th>3</th>\n",
              "      <td>Chol/HDL ratio</td>\n",
              "      <td>42.494889</td>\n",
              "    </tr>\n",
              "    <tr>\n",
              "      <th>7</th>\n",
              "      <td>Diastolic BP</td>\n",
              "      <td>66.880482</td>\n",
              "    </tr>\n",
              "    <tr>\n",
              "      <th>0</th>\n",
              "      <td>Cholesterol</td>\n",
              "      <td>78.563239</td>\n",
              "    </tr>\n",
              "    <tr>\n",
              "      <th>6</th>\n",
              "      <td>Systolic BP</td>\n",
              "      <td>79.059035</td>\n",
              "    </tr>\n",
              "  </tbody>\n",
              "</table>\n",
              "</div>"
            ],
            "text/plain": [
              "         Variable        VIF\n",
              "5          Gender   1.791857\n",
              "1         Glucose   5.961355\n",
              "4             Age  13.844028\n",
              "2        HDL Chol  35.602974\n",
              "8           waist  38.826097\n",
              "3  Chol/HDL ratio  42.494889\n",
              "7    Diastolic BP  66.880482\n",
              "0     Cholesterol  78.563239\n",
              "6     Systolic BP  79.059035"
            ]
          },
          "execution_count": 22,
          "metadata": {},
          "output_type": "execute_result"
        }
      ],
      "source": [
        "drop('Height')"
      ]
    },
    {
      "cell_type": "code",
      "execution_count": null,
      "metadata": {
        "id": "0eyU4QVOtbHb",
        "outputId": "bf550b17-1ed4-4841-cf64-864fd0312afd"
      },
      "outputs": [
        {
          "data": {
            "text/html": [
              "<div>\n",
              "<style scoped>\n",
              "    .dataframe tbody tr th:only-of-type {\n",
              "        vertical-align: middle;\n",
              "    }\n",
              "\n",
              "    .dataframe tbody tr th {\n",
              "        vertical-align: top;\n",
              "    }\n",
              "\n",
              "    .dataframe thead th {\n",
              "        text-align: right;\n",
              "    }\n",
              "</style>\n",
              "<table border=\"1\" class=\"dataframe\">\n",
              "  <thead>\n",
              "    <tr style=\"text-align: right;\">\n",
              "      <th></th>\n",
              "      <th>Variable</th>\n",
              "      <th>VIF</th>\n",
              "    </tr>\n",
              "  </thead>\n",
              "  <tbody>\n",
              "    <tr>\n",
              "      <th>5</th>\n",
              "      <td>Gender</td>\n",
              "      <td>1.787842</td>\n",
              "    </tr>\n",
              "    <tr>\n",
              "      <th>1</th>\n",
              "      <td>Glucose</td>\n",
              "      <td>5.956310</td>\n",
              "    </tr>\n",
              "    <tr>\n",
              "      <th>4</th>\n",
              "      <td>Age</td>\n",
              "      <td>10.613344</td>\n",
              "    </tr>\n",
              "    <tr>\n",
              "      <th>2</th>\n",
              "      <td>HDL Chol</td>\n",
              "      <td>35.358234</td>\n",
              "    </tr>\n",
              "    <tr>\n",
              "      <th>6</th>\n",
              "      <td>Diastolic BP</td>\n",
              "      <td>35.908078</td>\n",
              "    </tr>\n",
              "    <tr>\n",
              "      <th>7</th>\n",
              "      <td>waist</td>\n",
              "      <td>37.865224</td>\n",
              "    </tr>\n",
              "    <tr>\n",
              "      <th>3</th>\n",
              "      <td>Chol/HDL ratio</td>\n",
              "      <td>42.290251</td>\n",
              "    </tr>\n",
              "    <tr>\n",
              "      <th>0</th>\n",
              "      <td>Cholesterol</td>\n",
              "      <td>78.460281</td>\n",
              "    </tr>\n",
              "  </tbody>\n",
              "</table>\n",
              "</div>"
            ],
            "text/plain": [
              "         Variable        VIF\n",
              "5          Gender   1.787842\n",
              "1         Glucose   5.956310\n",
              "4             Age  10.613344\n",
              "2        HDL Chol  35.358234\n",
              "6    Diastolic BP  35.908078\n",
              "7           waist  37.865224\n",
              "3  Chol/HDL ratio  42.290251\n",
              "0     Cholesterol  78.460281"
            ]
          },
          "execution_count": 23,
          "metadata": {},
          "output_type": "execute_result"
        }
      ],
      "source": [
        "drop('Systolic BP')"
      ]
    },
    {
      "cell_type": "code",
      "execution_count": null,
      "metadata": {
        "id": "I_MWoMjItbHd",
        "outputId": "aa2f051a-57d1-4043-f245-d0eca4dd66a2"
      },
      "outputs": [
        {
          "data": {
            "text/html": [
              "<div>\n",
              "<style scoped>\n",
              "    .dataframe tbody tr th:only-of-type {\n",
              "        vertical-align: middle;\n",
              "    }\n",
              "\n",
              "    .dataframe tbody tr th {\n",
              "        vertical-align: top;\n",
              "    }\n",
              "\n",
              "    .dataframe thead th {\n",
              "        text-align: right;\n",
              "    }\n",
              "</style>\n",
              "<table border=\"1\" class=\"dataframe\">\n",
              "  <thead>\n",
              "    <tr style=\"text-align: right;\">\n",
              "      <th></th>\n",
              "      <th>Variable</th>\n",
              "      <th>VIF</th>\n",
              "    </tr>\n",
              "  </thead>\n",
              "  <tbody>\n",
              "    <tr>\n",
              "      <th>4</th>\n",
              "      <td>Gender</td>\n",
              "      <td>1.766010</td>\n",
              "    </tr>\n",
              "    <tr>\n",
              "      <th>0</th>\n",
              "      <td>Glucose</td>\n",
              "      <td>5.947886</td>\n",
              "    </tr>\n",
              "    <tr>\n",
              "      <th>3</th>\n",
              "      <td>Age</td>\n",
              "      <td>10.570904</td>\n",
              "    </tr>\n",
              "    <tr>\n",
              "      <th>1</th>\n",
              "      <td>HDL Chol</td>\n",
              "      <td>12.801254</td>\n",
              "    </tr>\n",
              "    <tr>\n",
              "      <th>2</th>\n",
              "      <td>Chol/HDL ratio</td>\n",
              "      <td>13.701050</td>\n",
              "    </tr>\n",
              "    <tr>\n",
              "      <th>5</th>\n",
              "      <td>Diastolic BP</td>\n",
              "      <td>35.879863</td>\n",
              "    </tr>\n",
              "    <tr>\n",
              "      <th>6</th>\n",
              "      <td>waist</td>\n",
              "      <td>37.432794</td>\n",
              "    </tr>\n",
              "  </tbody>\n",
              "</table>\n",
              "</div>"
            ],
            "text/plain": [
              "         Variable        VIF\n",
              "4          Gender   1.766010\n",
              "0         Glucose   5.947886\n",
              "3             Age  10.570904\n",
              "1        HDL Chol  12.801254\n",
              "2  Chol/HDL ratio  13.701050\n",
              "5    Diastolic BP  35.879863\n",
              "6           waist  37.432794"
            ]
          },
          "execution_count": 24,
          "metadata": {},
          "output_type": "execute_result"
        }
      ],
      "source": [
        "drop('Cholesterol')"
      ]
    },
    {
      "cell_type": "code",
      "execution_count": null,
      "metadata": {
        "scrolled": true,
        "id": "0mn8FxOctbHd",
        "outputId": "ae94fdfb-09a0-48da-bd94-130bedcd0d3d"
      },
      "outputs": [
        {
          "data": {
            "text/html": [
              "<div>\n",
              "<style scoped>\n",
              "    .dataframe tbody tr th:only-of-type {\n",
              "        vertical-align: middle;\n",
              "    }\n",
              "\n",
              "    .dataframe tbody tr th {\n",
              "        vertical-align: top;\n",
              "    }\n",
              "\n",
              "    .dataframe thead th {\n",
              "        text-align: right;\n",
              "    }\n",
              "</style>\n",
              "<table border=\"1\" class=\"dataframe\">\n",
              "  <thead>\n",
              "    <tr style=\"text-align: right;\">\n",
              "      <th></th>\n",
              "      <th>Variable</th>\n",
              "      <th>VIF</th>\n",
              "    </tr>\n",
              "  </thead>\n",
              "  <tbody>\n",
              "    <tr>\n",
              "      <th>4</th>\n",
              "      <td>Gender</td>\n",
              "      <td>1.755388</td>\n",
              "    </tr>\n",
              "    <tr>\n",
              "      <th>0</th>\n",
              "      <td>Glucose</td>\n",
              "      <td>5.800987</td>\n",
              "    </tr>\n",
              "    <tr>\n",
              "      <th>3</th>\n",
              "      <td>Age</td>\n",
              "      <td>10.397683</td>\n",
              "    </tr>\n",
              "    <tr>\n",
              "      <th>2</th>\n",
              "      <td>Chol/HDL ratio</td>\n",
              "      <td>11.197225</td>\n",
              "    </tr>\n",
              "    <tr>\n",
              "      <th>1</th>\n",
              "      <td>HDL Chol</td>\n",
              "      <td>12.004777</td>\n",
              "    </tr>\n",
              "    <tr>\n",
              "      <th>5</th>\n",
              "      <td>Diastolic BP</td>\n",
              "      <td>26.668741</td>\n",
              "    </tr>\n",
              "  </tbody>\n",
              "</table>\n",
              "</div>"
            ],
            "text/plain": [
              "         Variable        VIF\n",
              "4          Gender   1.755388\n",
              "0         Glucose   5.800987\n",
              "3             Age  10.397683\n",
              "2  Chol/HDL ratio  11.197225\n",
              "1        HDL Chol  12.004777\n",
              "5    Diastolic BP  26.668741"
            ]
          },
          "execution_count": 25,
          "metadata": {},
          "output_type": "execute_result"
        }
      ],
      "source": [
        "drop('waist')"
      ]
    },
    {
      "cell_type": "code",
      "execution_count": null,
      "metadata": {
        "id": "YAvoRVMUtbHe",
        "outputId": "1d9eabe9-69f0-45b8-b54b-5fd4f4ab6e7f"
      },
      "outputs": [
        {
          "data": {
            "text/html": [
              "<div>\n",
              "<style scoped>\n",
              "    .dataframe tbody tr th:only-of-type {\n",
              "        vertical-align: middle;\n",
              "    }\n",
              "\n",
              "    .dataframe tbody tr th {\n",
              "        vertical-align: top;\n",
              "    }\n",
              "\n",
              "    .dataframe thead th {\n",
              "        text-align: right;\n",
              "    }\n",
              "</style>\n",
              "<table border=\"1\" class=\"dataframe\">\n",
              "  <thead>\n",
              "    <tr style=\"text-align: right;\">\n",
              "      <th></th>\n",
              "      <th>Variable</th>\n",
              "      <th>VIF</th>\n",
              "    </tr>\n",
              "  </thead>\n",
              "  <tbody>\n",
              "    <tr>\n",
              "      <th>4</th>\n",
              "      <td>Gender</td>\n",
              "      <td>1.728730</td>\n",
              "    </tr>\n",
              "    <tr>\n",
              "      <th>1</th>\n",
              "      <td>HDL Chol</td>\n",
              "      <td>5.185444</td>\n",
              "    </tr>\n",
              "    <tr>\n",
              "      <th>0</th>\n",
              "      <td>Glucose</td>\n",
              "      <td>5.788923</td>\n",
              "    </tr>\n",
              "    <tr>\n",
              "      <th>2</th>\n",
              "      <td>Chol/HDL ratio</td>\n",
              "      <td>6.496076</td>\n",
              "    </tr>\n",
              "    <tr>\n",
              "      <th>3</th>\n",
              "      <td>Age</td>\n",
              "      <td>10.283445</td>\n",
              "    </tr>\n",
              "  </tbody>\n",
              "</table>\n",
              "</div>"
            ],
            "text/plain": [
              "         Variable        VIF\n",
              "4          Gender   1.728730\n",
              "1        HDL Chol   5.185444\n",
              "0         Glucose   5.788923\n",
              "2  Chol/HDL ratio   6.496076\n",
              "3             Age  10.283445"
            ]
          },
          "execution_count": 26,
          "metadata": {},
          "output_type": "execute_result"
        }
      ],
      "source": [
        "drop('Diastolic BP')"
      ]
    },
    {
      "cell_type": "code",
      "execution_count": null,
      "metadata": {
        "id": "DBiTWxlztbHf",
        "outputId": "90c1bc8b-5d37-4fff-9986-29f2fa43cae4"
      },
      "outputs": [
        {
          "data": {
            "text/html": [
              "<div>\n",
              "<style scoped>\n",
              "    .dataframe tbody tr th:only-of-type {\n",
              "        vertical-align: middle;\n",
              "    }\n",
              "\n",
              "    .dataframe tbody tr th {\n",
              "        vertical-align: top;\n",
              "    }\n",
              "\n",
              "    .dataframe thead th {\n",
              "        text-align: right;\n",
              "    }\n",
              "</style>\n",
              "<table border=\"1\" class=\"dataframe\">\n",
              "  <thead>\n",
              "    <tr style=\"text-align: right;\">\n",
              "      <th></th>\n",
              "      <th>Variable</th>\n",
              "      <th>VIF</th>\n",
              "    </tr>\n",
              "  </thead>\n",
              "  <tbody>\n",
              "    <tr>\n",
              "      <th>3</th>\n",
              "      <td>Gender</td>\n",
              "      <td>1.717542</td>\n",
              "    </tr>\n",
              "    <tr>\n",
              "      <th>1</th>\n",
              "      <td>HDL Chol</td>\n",
              "      <td>3.438510</td>\n",
              "    </tr>\n",
              "    <tr>\n",
              "      <th>2</th>\n",
              "      <td>Chol/HDL ratio</td>\n",
              "      <td>5.088340</td>\n",
              "    </tr>\n",
              "    <tr>\n",
              "      <th>0</th>\n",
              "      <td>Glucose</td>\n",
              "      <td>5.366946</td>\n",
              "    </tr>\n",
              "  </tbody>\n",
              "</table>\n",
              "</div>"
            ],
            "text/plain": [
              "         Variable       VIF\n",
              "3          Gender  1.717542\n",
              "1        HDL Chol  3.438510\n",
              "2  Chol/HDL ratio  5.088340\n",
              "0         Glucose  5.366946"
            ]
          },
          "execution_count": 27,
          "metadata": {},
          "output_type": "execute_result"
        }
      ],
      "source": [
        "drop('Age')"
      ]
    },
    {
      "cell_type": "markdown",
      "metadata": {
        "id": "83i6NMGOtbHf"
      },
      "source": [
        "## Naive Bayes"
      ]
    },
    {
      "cell_type": "markdown",
      "metadata": {
        "id": "PEVUsJ3mtbHg"
      },
      "source": [
        "Drop `Diabetes` as independent variable and define it as dependent variable. Then split the proportion for train and test data"
      ]
    },
    {
      "cell_type": "code",
      "execution_count": null,
      "metadata": {
        "id": "ce5R-XkKtbHh"
      },
      "outputs": [],
      "source": [
        "X = data.drop(['Diabetes'], axis=1)\n",
        "y = data['Diabetes']\n",
        "\n",
        "\n",
        "from sklearn.model_selection import train_test_split\n",
        "X_train, X_test, y_train, y_test = train_test_split(X, y, test_size = 0.3, random_state = 0)"
      ]
    },
    {
      "cell_type": "markdown",
      "metadata": {
        "id": "AqFbaOHXtbHi"
      },
      "source": [
        "Show how much data used in train data and test data"
      ]
    },
    {
      "cell_type": "code",
      "execution_count": null,
      "metadata": {
        "id": "LgyEzWJItbHj",
        "outputId": "69ed030e-4743-447f-914f-b1bf8c95e821"
      },
      "outputs": [
        {
          "data": {
            "text/plain": [
              "((273, 4), (117, 4))"
            ]
          },
          "execution_count": 29,
          "metadata": {},
          "output_type": "execute_result"
        }
      ],
      "source": [
        "X_train.shape, X_test.shape"
      ]
    },
    {
      "cell_type": "markdown",
      "metadata": {
        "id": "82gj2tQOtbHk"
      },
      "source": [
        "Import package for Gaussian Naive Bayes method"
      ]
    },
    {
      "cell_type": "code",
      "execution_count": null,
      "metadata": {
        "id": "BRINwqaAtbHl",
        "outputId": "7975a80e-1bf9-43b6-9166-0b3fff20b8e1"
      },
      "outputs": [
        {
          "data": {
            "text/plain": [
              "GaussianNB()"
            ]
          },
          "execution_count": 30,
          "metadata": {},
          "output_type": "execute_result"
        }
      ],
      "source": [
        "from sklearn.naive_bayes import GaussianNB\n",
        "gnb = GaussianNB()\n",
        "gnb.fit(X_train, y_train)"
      ]
    },
    {
      "cell_type": "markdown",
      "metadata": {
        "id": "kJefmqvttbHm"
      },
      "source": [
        "Show the value of `Diabetes` prediction "
      ]
    },
    {
      "cell_type": "code",
      "execution_count": null,
      "metadata": {
        "scrolled": true,
        "id": "9BuyOpyKtbHm",
        "outputId": "d752d869-73a5-43f2-f8f9-41d3f561799b"
      },
      "outputs": [
        {
          "data": {
            "text/html": [
              "<div>\n",
              "<style scoped>\n",
              "    .dataframe tbody tr th:only-of-type {\n",
              "        vertical-align: middle;\n",
              "    }\n",
              "\n",
              "    .dataframe tbody tr th {\n",
              "        vertical-align: top;\n",
              "    }\n",
              "\n",
              "    .dataframe thead th {\n",
              "        text-align: right;\n",
              "    }\n",
              "</style>\n",
              "<table border=\"1\" class=\"dataframe\">\n",
              "  <thead>\n",
              "    <tr style=\"text-align: right;\">\n",
              "      <th></th>\n",
              "      <th>Diabetes_Predicted_NB</th>\n",
              "    </tr>\n",
              "  </thead>\n",
              "  <tbody>\n",
              "    <tr>\n",
              "      <th>0</th>\n",
              "      <td>0</td>\n",
              "    </tr>\n",
              "    <tr>\n",
              "      <th>1</th>\n",
              "      <td>0</td>\n",
              "    </tr>\n",
              "    <tr>\n",
              "      <th>2</th>\n",
              "      <td>0</td>\n",
              "    </tr>\n",
              "    <tr>\n",
              "      <th>3</th>\n",
              "      <td>0</td>\n",
              "    </tr>\n",
              "    <tr>\n",
              "      <th>4</th>\n",
              "      <td>0</td>\n",
              "    </tr>\n",
              "  </tbody>\n",
              "</table>\n",
              "</div>"
            ],
            "text/plain": [
              "   Diabetes_Predicted_NB\n",
              "0                      0\n",
              "1                      0\n",
              "2                      0\n",
              "3                      0\n",
              "4                      0"
            ]
          },
          "execution_count": 31,
          "metadata": {},
          "output_type": "execute_result"
        }
      ],
      "source": [
        "NB=pd.DataFrame(gnb.predict(X_test),columns=['Diabetes_Predicted_NB'])\n",
        "NB.head()"
      ]
    },
    {
      "cell_type": "markdown",
      "metadata": {
        "id": "AxYQexlPtbHn"
      },
      "source": [
        "Import packages and define metric score such as precision, sensitivity, accuracy, and F1 score"
      ]
    },
    {
      "cell_type": "code",
      "execution_count": null,
      "metadata": {
        "id": "8TJ2qNxVtbHo"
      },
      "outputs": [],
      "source": [
        "from sklearn import metrics\n",
        "import numpy as np\n",
        "def metric_score(y,y_pred):\n",
        "    precision=metrics.precision_score(y, y_pred)\n",
        "    sensitivity=metrics.recall_score(y, y_pred)\n",
        "    accuracy=metrics.accuracy_score(y,y_pred)\n",
        "    f1_score=metrics.f1_score(y, y_pred)\n",
        "    metric_array = np.array([['Accuracy', accuracy],\n",
        "                           ['Precision', precision], ['Sensitivity', sensitivity],['F1 Score', f1_score]])\n",
        "    metric_score = pd.DataFrame(metric_array, columns=['Metric', 'Score'])\n",
        "    return(metric_score)"
      ]
    },
    {
      "cell_type": "markdown",
      "metadata": {
        "id": "odfLkRdotbHo"
      },
      "source": [
        "Show the value of the metric score to see whether if the model is good enough"
      ]
    },
    {
      "cell_type": "code",
      "execution_count": null,
      "metadata": {
        "id": "287CpUUPtbHq",
        "outputId": "83036a3e-f564-4d30-9785-8c0722a574b9"
      },
      "outputs": [
        {
          "data": {
            "text/html": [
              "<div>\n",
              "<style scoped>\n",
              "    .dataframe tbody tr th:only-of-type {\n",
              "        vertical-align: middle;\n",
              "    }\n",
              "\n",
              "    .dataframe tbody tr th {\n",
              "        vertical-align: top;\n",
              "    }\n",
              "\n",
              "    .dataframe thead th {\n",
              "        text-align: right;\n",
              "    }\n",
              "</style>\n",
              "<table border=\"1\" class=\"dataframe\">\n",
              "  <thead>\n",
              "    <tr style=\"text-align: right;\">\n",
              "      <th></th>\n",
              "      <th>Metric</th>\n",
              "      <th>Score</th>\n",
              "    </tr>\n",
              "  </thead>\n",
              "  <tbody>\n",
              "    <tr>\n",
              "      <th>0</th>\n",
              "      <td>Accuracy</td>\n",
              "      <td>0.8974358974358975</td>\n",
              "    </tr>\n",
              "    <tr>\n",
              "      <th>1</th>\n",
              "      <td>Precision</td>\n",
              "      <td>0.8571428571428571</td>\n",
              "    </tr>\n",
              "    <tr>\n",
              "      <th>2</th>\n",
              "      <td>Sensitivity</td>\n",
              "      <td>0.5454545454545454</td>\n",
              "    </tr>\n",
              "    <tr>\n",
              "      <th>3</th>\n",
              "      <td>F1 Score</td>\n",
              "      <td>0.6666666666666665</td>\n",
              "    </tr>\n",
              "  </tbody>\n",
              "</table>\n",
              "</div>"
            ],
            "text/plain": [
              "        Metric               Score\n",
              "0     Accuracy  0.8974358974358975\n",
              "1    Precision  0.8571428571428571\n",
              "2  Sensitivity  0.5454545454545454\n",
              "3     F1 Score  0.6666666666666665"
            ]
          },
          "execution_count": 33,
          "metadata": {},
          "output_type": "execute_result"
        }
      ],
      "source": [
        "metric_score(y_test,NB['Diabetes_Predicted_NB'])"
      ]
    },
    {
      "cell_type": "code",
      "execution_count": null,
      "metadata": {
        "id": "4kWkVe_HtbHr"
      },
      "outputs": [],
      "source": [
        "y_pred_train = gnb.predict(X_train)"
      ]
    },
    {
      "cell_type": "markdown",
      "metadata": {
        "id": "_9c70ukqtbHr"
      },
      "source": [
        "Check the value of the metric score below with above to see whether if the model is overfitting nor underfitting"
      ]
    },
    {
      "cell_type": "code",
      "execution_count": null,
      "metadata": {
        "id": "ncE3zcpytbHs",
        "outputId": "215c1be9-afdb-487e-8596-80bc9ae9ec7a"
      },
      "outputs": [
        {
          "data": {
            "text/html": [
              "<div>\n",
              "<style scoped>\n",
              "    .dataframe tbody tr th:only-of-type {\n",
              "        vertical-align: middle;\n",
              "    }\n",
              "\n",
              "    .dataframe tbody tr th {\n",
              "        vertical-align: top;\n",
              "    }\n",
              "\n",
              "    .dataframe thead th {\n",
              "        text-align: right;\n",
              "    }\n",
              "</style>\n",
              "<table border=\"1\" class=\"dataframe\">\n",
              "  <thead>\n",
              "    <tr style=\"text-align: right;\">\n",
              "      <th></th>\n",
              "      <th>Metric</th>\n",
              "      <th>Score</th>\n",
              "    </tr>\n",
              "  </thead>\n",
              "  <tbody>\n",
              "    <tr>\n",
              "      <th>0</th>\n",
              "      <td>Accuracy</td>\n",
              "      <td>0.9413919413919414</td>\n",
              "    </tr>\n",
              "    <tr>\n",
              "      <th>1</th>\n",
              "      <td>Precision</td>\n",
              "      <td>0.8235294117647058</td>\n",
              "    </tr>\n",
              "    <tr>\n",
              "      <th>2</th>\n",
              "      <td>Sensitivity</td>\n",
              "      <td>0.7368421052631579</td>\n",
              "    </tr>\n",
              "    <tr>\n",
              "      <th>3</th>\n",
              "      <td>F1 Score</td>\n",
              "      <td>0.7777777777777778</td>\n",
              "    </tr>\n",
              "  </tbody>\n",
              "</table>\n",
              "</div>"
            ],
            "text/plain": [
              "        Metric               Score\n",
              "0     Accuracy  0.9413919413919414\n",
              "1    Precision  0.8235294117647058\n",
              "2  Sensitivity  0.7368421052631579\n",
              "3     F1 Score  0.7777777777777778"
            ]
          },
          "execution_count": 35,
          "metadata": {},
          "output_type": "execute_result"
        }
      ],
      "source": [
        "metric_score(y_train,y_pred_train)"
      ]
    },
    {
      "cell_type": "markdown",
      "metadata": {
        "id": "IbflJusdtbHt"
      },
      "source": [
        "Compare the prediction and actual data"
      ]
    },
    {
      "cell_type": "code",
      "execution_count": null,
      "metadata": {
        "scrolled": true,
        "id": "EdvNxRSftbHt",
        "outputId": "7ef33d90-6511-4018-88a3-f5711dbbedb1"
      },
      "outputs": [
        {
          "data": {
            "text/html": [
              "<div>\n",
              "<style scoped>\n",
              "    .dataframe tbody tr th:only-of-type {\n",
              "        vertical-align: middle;\n",
              "    }\n",
              "\n",
              "    .dataframe tbody tr th {\n",
              "        vertical-align: top;\n",
              "    }\n",
              "\n",
              "    .dataframe thead th {\n",
              "        text-align: right;\n",
              "    }\n",
              "</style>\n",
              "<table border=\"1\" class=\"dataframe\">\n",
              "  <thead>\n",
              "    <tr style=\"text-align: right;\">\n",
              "      <th></th>\n",
              "      <th>No Diabetes</th>\n",
              "      <th>Diabetes</th>\n",
              "    </tr>\n",
              "  </thead>\n",
              "  <tbody>\n",
              "    <tr>\n",
              "      <th>No Diabetes</th>\n",
              "      <td>93</td>\n",
              "      <td>2</td>\n",
              "    </tr>\n",
              "    <tr>\n",
              "      <th>Diabetes</th>\n",
              "      <td>10</td>\n",
              "      <td>12</td>\n",
              "    </tr>\n",
              "  </tbody>\n",
              "</table>\n",
              "</div>"
            ],
            "text/plain": [
              "             No Diabetes  Diabetes\n",
              "No Diabetes           93         2\n",
              "Diabetes              10        12"
            ]
          },
          "execution_count": 36,
          "metadata": {},
          "output_type": "execute_result"
        }
      ],
      "source": [
        "from sklearn.metrics import confusion_matrix\n",
        "cm = confusion_matrix(y_test,NB['Diabetes_Predicted_NB'])\n",
        "cm_df=pd.DataFrame(cm,columns=['No Diabetes','Diabetes'],index=['No Diabetes', 'Diabetes'])\n",
        "cm_df"
      ]
    },
    {
      "cell_type": "code",
      "execution_count": null,
      "metadata": {
        "scrolled": true,
        "id": "HznU3CN1tbHu",
        "outputId": "304bbcd5-8a22-406e-fb93-3d862f3f31fb"
      },
      "outputs": [
        {
          "data": {
            "text/plain": [
              "<AxesSubplot:>"
            ]
          },
          "execution_count": 37,
          "metadata": {},
          "output_type": "execute_result"
        },
        {
          "data": {
            "image/png": "[encoded data removed]",
            "text/plain": [
              "<Figure size 432x288 with 2 Axes>"
            ]
          },
          "metadata": {
            "needs_background": "light"
          },
          "output_type": "display_data"
        }
      ],
      "source": [
        "sns.heatmap(cm_df, annot=True, fmt='d', cmap='YlGnBu')"
      ]
    },
    {
      "cell_type": "markdown",
      "metadata": {
        "id": "gOxqpwnLtbHv"
      },
      "source": [
        "Reprocessing the data 30 times to make sure that the metric score is valid"
      ]
    },
    {
      "cell_type": "code",
      "execution_count": null,
      "metadata": {
        "id": "tWlYpcoWtbHv"
      },
      "outputs": [],
      "source": [
        "def split(data):\n",
        "    prec=0\n",
        "    sens=0\n",
        "    acc=0\n",
        "    f1=0\n",
        "    \n",
        "    for i in range (30):\n",
        "        X = data.drop(['Diabetes'], axis=1)\n",
        "        y = data['Diabetes']\n",
        "        X_train, X_test, y_train, y_test = train_test_split(X, y, test_size = 0.3)\n",
        "\n",
        "        gnb = GaussianNB()\n",
        "        gnb.fit(X_train, y_train)\n",
        "\n",
        "        NB=pd.DataFrame(gnb.predict(X_test))\n",
        "        NB.columns=['Diabetes_Predicted_NB']\n",
        "\n",
        "        precision=metrics.precision_score(y_test, NB['Diabetes_Predicted_NB'])\n",
        "        prec+=precision\n",
        "        sensitivity=metrics.recall_score(y_test, NB['Diabetes_Predicted_NB'])\n",
        "        sens+=sensitivity\n",
        "        accuracy=metrics.accuracy_score(y_test,NB['Diabetes_Predicted_NB'])\n",
        "        acc+=accuracy\n",
        "        f1_score=metrics.f1_score(y_test, NB['Diabetes_Predicted_NB'])\n",
        "        f1+=f1_score\n",
        "\n",
        "    metric_array = np.array([['Accuracy_mean', acc/30],\n",
        "                                   ['Precision_mean', prec/30], ['Sensitivity_mean', sens/30],['F1 Score_mean', f1/30]])\n",
        "    metric_score = pd.DataFrame(metric_array, columns=['Metric_mean', 'Score'])\n",
        "    return(metric_score)"
      ]
    },
    {
      "cell_type": "markdown",
      "metadata": {
        "id": "qgIAwvo2tbHx"
      },
      "source": [
        "Show the value of the metric score after being reprocessed 30 times"
      ]
    },
    {
      "cell_type": "code",
      "execution_count": null,
      "metadata": {
        "id": "1ew3Tz8AtbHy",
        "outputId": "c2ab30bd-01af-4dec-8063-9fdf249deeb1"
      },
      "outputs": [
        {
          "data": {
            "text/html": [
              "<div>\n",
              "<style scoped>\n",
              "    .dataframe tbody tr th:only-of-type {\n",
              "        vertical-align: middle;\n",
              "    }\n",
              "\n",
              "    .dataframe tbody tr th {\n",
              "        vertical-align: top;\n",
              "    }\n",
              "\n",
              "    .dataframe thead th {\n",
              "        text-align: right;\n",
              "    }\n",
              "</style>\n",
              "<table border=\"1\" class=\"dataframe\">\n",
              "  <thead>\n",
              "    <tr style=\"text-align: right;\">\n",
              "      <th></th>\n",
              "      <th>Metric_mean</th>\n",
              "      <th>Score</th>\n",
              "    </tr>\n",
              "  </thead>\n",
              "  <tbody>\n",
              "    <tr>\n",
              "      <th>0</th>\n",
              "      <td>Accuracy_mean</td>\n",
              "      <td>0.9202279202279204</td>\n",
              "    </tr>\n",
              "    <tr>\n",
              "      <th>1</th>\n",
              "      <td>Precision_mean</td>\n",
              "      <td>0.7782586246169836</td>\n",
              "    </tr>\n",
              "    <tr>\n",
              "      <th>2</th>\n",
              "      <td>Sensitivity_mean</td>\n",
              "      <td>0.6660289119230428</td>\n",
              "    </tr>\n",
              "    <tr>\n",
              "      <th>3</th>\n",
              "      <td>F1 Score_mean</td>\n",
              "      <td>0.7121008449653897</td>\n",
              "    </tr>\n",
              "  </tbody>\n",
              "</table>\n",
              "</div>"
            ],
            "text/plain": [
              "        Metric_mean               Score\n",
              "0     Accuracy_mean  0.9202279202279204\n",
              "1    Precision_mean  0.7782586246169836\n",
              "2  Sensitivity_mean  0.6660289119230428\n",
              "3     F1 Score_mean  0.7121008449653897"
            ]
          },
          "execution_count": 39,
          "metadata": {},
          "output_type": "execute_result"
        }
      ],
      "source": [
        "NB_score=split(data)\n",
        "NB_score"
      ]
    },
    {
      "cell_type": "code",
      "execution_count": null,
      "metadata": {
        "id": "Som9Tj4stbHz",
        "outputId": "6bf68f46-1bc2-4730-8689-b6abf90240dc"
      },
      "outputs": [
        {
          "data": {
            "text/html": [
              "<div>\n",
              "<style scoped>\n",
              "    .dataframe tbody tr th:only-of-type {\n",
              "        vertical-align: middle;\n",
              "    }\n",
              "\n",
              "    .dataframe tbody tr th {\n",
              "        vertical-align: top;\n",
              "    }\n",
              "\n",
              "    .dataframe thead th {\n",
              "        text-align: right;\n",
              "    }\n",
              "</style>\n",
              "<table border=\"1\" class=\"dataframe\">\n",
              "  <thead>\n",
              "    <tr style=\"text-align: right;\">\n",
              "      <th></th>\n",
              "      <th>Glucose</th>\n",
              "      <th>HDL Chol</th>\n",
              "      <th>Chol/HDL ratio</th>\n",
              "      <th>Gender</th>\n",
              "    </tr>\n",
              "  </thead>\n",
              "  <tbody>\n",
              "    <tr>\n",
              "      <th>count</th>\n",
              "      <td>273.000000</td>\n",
              "      <td>273.000000</td>\n",
              "      <td>273.000000</td>\n",
              "      <td>273.000000</td>\n",
              "    </tr>\n",
              "    <tr>\n",
              "      <th>mean</th>\n",
              "      <td>109.014652</td>\n",
              "      <td>49.223443</td>\n",
              "      <td>4.605128</td>\n",
              "      <td>0.417582</td>\n",
              "    </tr>\n",
              "    <tr>\n",
              "      <th>std</th>\n",
              "      <td>56.692473</td>\n",
              "      <td>16.577732</td>\n",
              "      <td>1.806700</td>\n",
              "      <td>0.494066</td>\n",
              "    </tr>\n",
              "    <tr>\n",
              "      <th>min</th>\n",
              "      <td>56.000000</td>\n",
              "      <td>12.000000</td>\n",
              "      <td>2.000000</td>\n",
              "      <td>0.000000</td>\n",
              "    </tr>\n",
              "    <tr>\n",
              "      <th>25%</th>\n",
              "      <td>81.000000</td>\n",
              "      <td>37.000000</td>\n",
              "      <td>3.300000</td>\n",
              "      <td>0.000000</td>\n",
              "    </tr>\n",
              "    <tr>\n",
              "      <th>50%</th>\n",
              "      <td>90.000000</td>\n",
              "      <td>46.000000</td>\n",
              "      <td>4.300000</td>\n",
              "      <td>0.000000</td>\n",
              "    </tr>\n",
              "    <tr>\n",
              "      <th>75%</th>\n",
              "      <td>106.000000</td>\n",
              "      <td>58.000000</td>\n",
              "      <td>5.500000</td>\n",
              "      <td>1.000000</td>\n",
              "    </tr>\n",
              "    <tr>\n",
              "      <th>max</th>\n",
              "      <td>385.000000</td>\n",
              "      <td>118.000000</td>\n",
              "      <td>19.300000</td>\n",
              "      <td>1.000000</td>\n",
              "    </tr>\n",
              "  </tbody>\n",
              "</table>\n",
              "</div>"
            ],
            "text/plain": [
              "          Glucose    HDL Chol  Chol/HDL ratio      Gender\n",
              "count  273.000000  273.000000      273.000000  273.000000\n",
              "mean   109.014652   49.223443        4.605128    0.417582\n",
              "std     56.692473   16.577732        1.806700    0.494066\n",
              "min     56.000000   12.000000        2.000000    0.000000\n",
              "25%     81.000000   37.000000        3.300000    0.000000\n",
              "50%     90.000000   46.000000        4.300000    0.000000\n",
              "75%    106.000000   58.000000        5.500000    1.000000\n",
              "max    385.000000  118.000000       19.300000    1.000000"
            ]
          },
          "execution_count": 40,
          "metadata": {},
          "output_type": "execute_result"
        }
      ],
      "source": [
        "X_train.describe()"
      ]
    },
    {
      "cell_type": "markdown",
      "metadata": {
        "id": "h2lVunMAtbH0"
      },
      "source": [
        "Do a simulation with new data"
      ]
    },
    {
      "cell_type": "code",
      "execution_count": null,
      "metadata": {
        "scrolled": true,
        "id": "4CKjqhoFtbH0",
        "outputId": "489e8234-eee5-46ad-f17a-e3542a7c8fb8"
      },
      "outputs": [
        {
          "name": "stdout",
          "output_type": "stream",
          "text": [
            "Xnew= [[100  60  18   0]\n",
            " [ 15  20   3   1]]\n",
            "ynew= [1 0]\n"
          ]
        }
      ],
      "source": [
        "import numpy as np\n",
        "np.random.seed(69)\n",
        "rng = np.random.default_rng()\n",
        "x0=np.array([100, 15])\n",
        "x1=np.array([60, 20])\n",
        "x2=np.array([18, 3])\n",
        "x3=np.array([0, 1])\n",
        "Xnew=np.array(list(zip(x0,x1,x2,x3)))\n",
        "ynew = gnb.predict(Xnew) #classification.\n",
        "print(\"Xnew=\",Xnew)\n",
        "print(\"ynew=\",ynew)"
      ]
    },
    {
      "cell_type": "code",
      "execution_count": null,
      "metadata": {
        "id": "DR5SkRKctbH1"
      },
      "outputs": [],
      "source": [
        "data2=pd.DataFrame(Xnew,ynew)\n",
        "data2.reset_index(inplace=True)"
      ]
    },
    {
      "cell_type": "code",
      "execution_count": null,
      "metadata": {
        "id": "VJROCRy5tbH2",
        "outputId": "6e4e3fce-c1b3-46db-ff20-238d972fe74a"
      },
      "outputs": [
        {
          "data": {
            "text/html": [
              "<div>\n",
              "<style scoped>\n",
              "    .dataframe tbody tr th:only-of-type {\n",
              "        vertical-align: middle;\n",
              "    }\n",
              "\n",
              "    .dataframe tbody tr th {\n",
              "        vertical-align: top;\n",
              "    }\n",
              "\n",
              "    .dataframe thead th {\n",
              "        text-align: right;\n",
              "    }\n",
              "</style>\n",
              "<table border=\"1\" class=\"dataframe\">\n",
              "  <thead>\n",
              "    <tr style=\"text-align: right;\">\n",
              "      <th></th>\n",
              "      <th>Predicted_Diabetes</th>\n",
              "      <th>Glucose</th>\n",
              "      <th>HDL Chol</th>\n",
              "      <th>Chol/HDL ratio</th>\n",
              "      <th>Gender</th>\n",
              "    </tr>\n",
              "  </thead>\n",
              "  <tbody>\n",
              "    <tr>\n",
              "      <th>0</th>\n",
              "      <td>1</td>\n",
              "      <td>100</td>\n",
              "      <td>60</td>\n",
              "      <td>18</td>\n",
              "      <td>0</td>\n",
              "    </tr>\n",
              "    <tr>\n",
              "      <th>1</th>\n",
              "      <td>0</td>\n",
              "      <td>15</td>\n",
              "      <td>20</td>\n",
              "      <td>3</td>\n",
              "      <td>1</td>\n",
              "    </tr>\n",
              "  </tbody>\n",
              "</table>\n",
              "</div>"
            ],
            "text/plain": [
              "   Predicted_Diabetes  Glucose  HDL Chol  Chol/HDL ratio  Gender\n",
              "0                   1      100        60              18       0\n",
              "1                   0       15        20               3       1"
            ]
          },
          "execution_count": 43,
          "metadata": {},
          "output_type": "execute_result"
        }
      ],
      "source": [
        "data2.columns = ['Predicted_Diabetes','Glucose', 'HDL Chol','Chol/HDL ratio', 'Gender']\n",
        "data2"
      ]
    },
    {
      "cell_type": "code",
      "execution_count": null,
      "metadata": {
        "id": "qk5iZ_OItbH2"
      },
      "outputs": [],
      "source": [
        "data2 = data2[['Glucose', 'HDL Chol', 'Chol/HDL ratio','Gender','Predicted_Diabetes']]"
      ]
    },
    {
      "cell_type": "code",
      "execution_count": null,
      "metadata": {
        "id": "gi-jFqZ3tbH2",
        "outputId": "6f36924a-a0bd-40bf-973b-aa7bfdb12cb9"
      },
      "outputs": [
        {
          "data": {
            "text/html": [
              "<div>\n",
              "<style scoped>\n",
              "    .dataframe tbody tr th:only-of-type {\n",
              "        vertical-align: middle;\n",
              "    }\n",
              "\n",
              "    .dataframe tbody tr th {\n",
              "        vertical-align: top;\n",
              "    }\n",
              "\n",
              "    .dataframe thead th {\n",
              "        text-align: right;\n",
              "    }\n",
              "</style>\n",
              "<table border=\"1\" class=\"dataframe\">\n",
              "  <thead>\n",
              "    <tr style=\"text-align: right;\">\n",
              "      <th></th>\n",
              "      <th>Glucose</th>\n",
              "      <th>HDL Chol</th>\n",
              "      <th>Chol/HDL ratio</th>\n",
              "      <th>Gender</th>\n",
              "      <th>Predicted_Diabetes</th>\n",
              "    </tr>\n",
              "  </thead>\n",
              "  <tbody>\n",
              "    <tr>\n",
              "      <th>0</th>\n",
              "      <td>100</td>\n",
              "      <td>60</td>\n",
              "      <td>18</td>\n",
              "      <td>0</td>\n",
              "      <td>1</td>\n",
              "    </tr>\n",
              "    <tr>\n",
              "      <th>1</th>\n",
              "      <td>15</td>\n",
              "      <td>20</td>\n",
              "      <td>3</td>\n",
              "      <td>1</td>\n",
              "      <td>0</td>\n",
              "    </tr>\n",
              "  </tbody>\n",
              "</table>\n",
              "</div>"
            ],
            "text/plain": [
              "   Glucose  HDL Chol  Chol/HDL ratio  Gender  Predicted_Diabetes\n",
              "0      100        60              18       0                   1\n",
              "1       15        20               3       1                   0"
            ]
          },
          "execution_count": 45,
          "metadata": {},
          "output_type": "execute_result"
        }
      ],
      "source": [
        "data2"
      ]
    },
    {
      "cell_type": "markdown",
      "metadata": {
        "id": "kmkMdUyotbH3"
      },
      "source": [
        "## Random Forest"
      ]
    },
    {
      "cell_type": "markdown",
      "metadata": {
        "id": "tPGRQc_wtbH4"
      },
      "source": [
        "Split the proportion of data for train and testing"
      ]
    },
    {
      "cell_type": "code",
      "execution_count": null,
      "metadata": {
        "id": "l0Jk6z7JtbH4"
      },
      "outputs": [],
      "source": [
        "X_rf = data.drop(['Diabetes'], axis=1)\n",
        "y_rf = data['Diabetes']\n",
        "\n",
        "\n",
        "from sklearn.model_selection import train_test_split\n",
        "X_rf_train, X_rf_test, y_rf_train, y_rf_test = train_test_split(X_rf, y_rf, test_size = 0.3, random_state = 0)"
      ]
    },
    {
      "cell_type": "code",
      "execution_count": null,
      "metadata": {
        "id": "TPh6xNLBtbH4",
        "outputId": "5386f96e-1686-482c-a493-ae5d8059fae5"
      },
      "outputs": [
        {
          "data": {
            "text/plain": [
              "((273, 4), (117, 4))"
            ]
          },
          "execution_count": 47,
          "metadata": {},
          "output_type": "execute_result"
        }
      ],
      "source": [
        "X_rf_train.shape, X_rf_test.shape"
      ]
    },
    {
      "cell_type": "markdown",
      "metadata": {
        "id": "TTvxnffMtbH5"
      },
      "source": [
        "Import random forest with 100 estimators"
      ]
    },
    {
      "cell_type": "code",
      "execution_count": null,
      "metadata": {
        "id": "vn8Ab3OEtbH6"
      },
      "outputs": [],
      "source": [
        "from sklearn.ensemble import RandomForestClassifier\n",
        "rfc = RandomForestClassifier(n_estimators=100,random_state=0)"
      ]
    },
    {
      "cell_type": "markdown",
      "metadata": {
        "id": "o7wSjA1HtbH6"
      },
      "source": [
        "Predict the diabetics data from test data"
      ]
    },
    {
      "cell_type": "code",
      "execution_count": null,
      "metadata": {
        "id": "hhsa0JU0tbH7",
        "outputId": "b5d4e546-7688-4853-efb1-b5232b540076"
      },
      "outputs": [
        {
          "data": {
            "text/html": [
              "<div>\n",
              "<style scoped>\n",
              "    .dataframe tbody tr th:only-of-type {\n",
              "        vertical-align: middle;\n",
              "    }\n",
              "\n",
              "    .dataframe tbody tr th {\n",
              "        vertical-align: top;\n",
              "    }\n",
              "\n",
              "    .dataframe thead th {\n",
              "        text-align: right;\n",
              "    }\n",
              "</style>\n",
              "<table border=\"1\" class=\"dataframe\">\n",
              "  <thead>\n",
              "    <tr style=\"text-align: right;\">\n",
              "      <th></th>\n",
              "      <th>Diabetes_Predicted_RF</th>\n",
              "    </tr>\n",
              "  </thead>\n",
              "  <tbody>\n",
              "    <tr>\n",
              "      <th>0</th>\n",
              "      <td>0</td>\n",
              "    </tr>\n",
              "    <tr>\n",
              "      <th>1</th>\n",
              "      <td>0</td>\n",
              "    </tr>\n",
              "    <tr>\n",
              "      <th>2</th>\n",
              "      <td>0</td>\n",
              "    </tr>\n",
              "    <tr>\n",
              "      <th>3</th>\n",
              "      <td>0</td>\n",
              "    </tr>\n",
              "    <tr>\n",
              "      <th>4</th>\n",
              "      <td>0</td>\n",
              "    </tr>\n",
              "  </tbody>\n",
              "</table>\n",
              "</div>"
            ],
            "text/plain": [
              "   Diabetes_Predicted_RF\n",
              "0                      0\n",
              "1                      0\n",
              "2                      0\n",
              "3                      0\n",
              "4                      0"
            ]
          },
          "execution_count": 49,
          "metadata": {},
          "output_type": "execute_result"
        }
      ],
      "source": [
        "rfc.fit(X_rf_train, y_rf_train)\n",
        "RF=pd.DataFrame(rfc.predict(X_rf_test),columns=['Diabetes_Predicted_RF'])\n",
        "RF.head()"
      ]
    },
    {
      "cell_type": "markdown",
      "metadata": {
        "id": "7Q-csSFQtbH8"
      },
      "source": [
        "Show the value of the metric score to see whether if the model is good enough"
      ]
    },
    {
      "cell_type": "code",
      "execution_count": null,
      "metadata": {
        "scrolled": true,
        "id": "2N9BPgEUtbH8",
        "outputId": "419dd286-ed62-4731-f516-74034401df5d"
      },
      "outputs": [
        {
          "data": {
            "text/html": [
              "<div>\n",
              "<style scoped>\n",
              "    .dataframe tbody tr th:only-of-type {\n",
              "        vertical-align: middle;\n",
              "    }\n",
              "\n",
              "    .dataframe tbody tr th {\n",
              "        vertical-align: top;\n",
              "    }\n",
              "\n",
              "    .dataframe thead th {\n",
              "        text-align: right;\n",
              "    }\n",
              "</style>\n",
              "<table border=\"1\" class=\"dataframe\">\n",
              "  <thead>\n",
              "    <tr style=\"text-align: right;\">\n",
              "      <th></th>\n",
              "      <th>Metric</th>\n",
              "      <th>Score</th>\n",
              "    </tr>\n",
              "  </thead>\n",
              "  <tbody>\n",
              "    <tr>\n",
              "      <th>0</th>\n",
              "      <td>Accuracy</td>\n",
              "      <td>0.8888888888888888</td>\n",
              "    </tr>\n",
              "    <tr>\n",
              "      <th>1</th>\n",
              "      <td>Precision</td>\n",
              "      <td>0.8461538461538461</td>\n",
              "    </tr>\n",
              "    <tr>\n",
              "      <th>2</th>\n",
              "      <td>Sensitivity</td>\n",
              "      <td>0.5</td>\n",
              "    </tr>\n",
              "    <tr>\n",
              "      <th>3</th>\n",
              "      <td>F1 Score</td>\n",
              "      <td>0.6285714285714286</td>\n",
              "    </tr>\n",
              "  </tbody>\n",
              "</table>\n",
              "</div>"
            ],
            "text/plain": [
              "        Metric               Score\n",
              "0     Accuracy  0.8888888888888888\n",
              "1    Precision  0.8461538461538461\n",
              "2  Sensitivity                 0.5\n",
              "3     F1 Score  0.6285714285714286"
            ]
          },
          "execution_count": 50,
          "metadata": {},
          "output_type": "execute_result"
        }
      ],
      "source": [
        "metric_score(y_rf_test,RF['Diabetes_Predicted_RF'])"
      ]
    },
    {
      "cell_type": "code",
      "execution_count": null,
      "metadata": {
        "id": "QMaXbqzatbH-"
      },
      "outputs": [],
      "source": [
        "rfc.fit(X_rf_train, y_rf_train)\n",
        "yrf_pred_train = rfc.predict(X_rf_train)"
      ]
    },
    {
      "cell_type": "markdown",
      "metadata": {
        "id": "Jlhsdvo1tbH-"
      },
      "source": [
        "Check the value of the metric score below with above to see whether if the model is overfitting nor underfitting"
      ]
    },
    {
      "cell_type": "code",
      "execution_count": null,
      "metadata": {
        "id": "R1IjpI-ttbH-",
        "outputId": "3a2baeea-8e79-4b13-f0df-9b33a66d8243"
      },
      "outputs": [
        {
          "data": {
            "text/html": [
              "<div>\n",
              "<style scoped>\n",
              "    .dataframe tbody tr th:only-of-type {\n",
              "        vertical-align: middle;\n",
              "    }\n",
              "\n",
              "    .dataframe tbody tr th {\n",
              "        vertical-align: top;\n",
              "    }\n",
              "\n",
              "    .dataframe thead th {\n",
              "        text-align: right;\n",
              "    }\n",
              "</style>\n",
              "<table border=\"1\" class=\"dataframe\">\n",
              "  <thead>\n",
              "    <tr style=\"text-align: right;\">\n",
              "      <th></th>\n",
              "      <th>Metric</th>\n",
              "      <th>Score</th>\n",
              "    </tr>\n",
              "  </thead>\n",
              "  <tbody>\n",
              "    <tr>\n",
              "      <th>0</th>\n",
              "      <td>Accuracy</td>\n",
              "      <td>0.9963369963369964</td>\n",
              "    </tr>\n",
              "    <tr>\n",
              "      <th>1</th>\n",
              "      <td>Precision</td>\n",
              "      <td>1.0</td>\n",
              "    </tr>\n",
              "    <tr>\n",
              "      <th>2</th>\n",
              "      <td>Sensitivity</td>\n",
              "      <td>0.9736842105263158</td>\n",
              "    </tr>\n",
              "    <tr>\n",
              "      <th>3</th>\n",
              "      <td>F1 Score</td>\n",
              "      <td>0.9866666666666666</td>\n",
              "    </tr>\n",
              "  </tbody>\n",
              "</table>\n",
              "</div>"
            ],
            "text/plain": [
              "        Metric               Score\n",
              "0     Accuracy  0.9963369963369964\n",
              "1    Precision                 1.0\n",
              "2  Sensitivity  0.9736842105263158\n",
              "3     F1 Score  0.9866666666666666"
            ]
          },
          "execution_count": 52,
          "metadata": {},
          "output_type": "execute_result"
        }
      ],
      "source": [
        "metric_score(y_rf_train,yrf_pred_train)"
      ]
    },
    {
      "cell_type": "markdown",
      "metadata": {
        "id": "td6FMjurtbIA"
      },
      "source": [
        "Compare the prediction and actual data"
      ]
    },
    {
      "cell_type": "code",
      "execution_count": null,
      "metadata": {
        "id": "sqhtaNzLtbIA",
        "outputId": "dce4d9ce-11c7-4d39-87c2-1921265ede3d"
      },
      "outputs": [
        {
          "data": {
            "text/html": [
              "<div>\n",
              "<style scoped>\n",
              "    .dataframe tbody tr th:only-of-type {\n",
              "        vertical-align: middle;\n",
              "    }\n",
              "\n",
              "    .dataframe tbody tr th {\n",
              "        vertical-align: top;\n",
              "    }\n",
              "\n",
              "    .dataframe thead th {\n",
              "        text-align: right;\n",
              "    }\n",
              "</style>\n",
              "<table border=\"1\" class=\"dataframe\">\n",
              "  <thead>\n",
              "    <tr style=\"text-align: right;\">\n",
              "      <th></th>\n",
              "      <th>No Diabetes</th>\n",
              "      <th>Diabetes</th>\n",
              "    </tr>\n",
              "  </thead>\n",
              "  <tbody>\n",
              "    <tr>\n",
              "      <th>No Diabetes</th>\n",
              "      <td>93</td>\n",
              "      <td>2</td>\n",
              "    </tr>\n",
              "    <tr>\n",
              "      <th>Diabetes</th>\n",
              "      <td>11</td>\n",
              "      <td>11</td>\n",
              "    </tr>\n",
              "  </tbody>\n",
              "</table>\n",
              "</div>"
            ],
            "text/plain": [
              "             No Diabetes  Diabetes\n",
              "No Diabetes           93         2\n",
              "Diabetes              11        11"
            ]
          },
          "execution_count": 53,
          "metadata": {},
          "output_type": "execute_result"
        }
      ],
      "source": [
        "from sklearn.metrics import confusion_matrix\n",
        "cm_rf = confusion_matrix(y_rf_test, RF['Diabetes_Predicted_RF'])\n",
        "cm_rf=pd.DataFrame(cm_rf,columns=['No Diabetes','Diabetes'],index=['No Diabetes', 'Diabetes'])\n",
        "cm_rf"
      ]
    },
    {
      "cell_type": "code",
      "execution_count": null,
      "metadata": {
        "id": "MXlKjN-KtbIB",
        "outputId": "689e9298-cce8-419d-f273-44ab43c64096"
      },
      "outputs": [
        {
          "data": {
            "text/plain": [
              "<AxesSubplot:>"
            ]
          },
          "execution_count": 54,
          "metadata": {},
          "output_type": "execute_result"
        },
        {
          "data": {
            "image/png": "[encoded data removed]",
            "text/plain": [
              "<Figure size 432x288 with 2 Axes>"
            ]
          },
          "metadata": {
            "needs_background": "light"
          },
          "output_type": "display_data"
        }
      ],
      "source": [
        "sns.heatmap(cm_rf, annot=True, fmt='d', cmap='YlGnBu')"
      ]
    },
    {
      "cell_type": "markdown",
      "metadata": {
        "id": "uZqF1IErtbID"
      },
      "source": [
        "Feature selection to see which variables that are important to used for prediction"
      ]
    },
    {
      "cell_type": "code",
      "execution_count": null,
      "metadata": {
        "id": "NeTbglZstbIE",
        "outputId": "a683c5d0-7bb6-4b95-8a41-12abf833a20b"
      },
      "outputs": [
        {
          "data": {
            "text/plain": [
              "RandomForestClassifier(random_state=0)"
            ]
          },
          "execution_count": 55,
          "metadata": {},
          "output_type": "execute_result"
        }
      ],
      "source": [
        "clf = RandomForestClassifier(n_estimators=100, random_state=0)\n",
        "clf.fit(X_rf_train, y_rf_train)"
      ]
    },
    {
      "cell_type": "code",
      "execution_count": null,
      "metadata": {
        "id": "aFnUikR_tbIG",
        "outputId": "6e92677f-cef5-4da0-cf5b-49b6ef628289"
      },
      "outputs": [
        {
          "data": {
            "text/plain": [
              "Glucose           0.698233\n",
              "Chol/HDL ratio    0.178882\n",
              "HDL Chol          0.109175\n",
              "Gender            0.013710\n",
              "dtype: float64"
            ]
          },
          "execution_count": 56,
          "metadata": {},
          "output_type": "execute_result"
        }
      ],
      "source": [
        "feature_scores = pd.Series(clf.feature_importances_, index=X_rf_train.columns).sort_values(ascending=False)\n",
        "feature_scores"
      ]
    },
    {
      "cell_type": "code",
      "execution_count": null,
      "metadata": {
        "scrolled": true,
        "id": "oDTEhyDetbIH",
        "outputId": "a1275f8c-ca5d-4062-9137-c4a8ad5520a3"
      },
      "outputs": [
        {
          "data": {
            "image/png": "[encoded data removed]",
            "text/plain": [
              "<Figure size 432x288 with 1 Axes>"
            ]
          },
          "metadata": {
            "needs_background": "light"
          },
          "output_type": "display_data"
        }
      ],
      "source": [
        "sns.barplot(x=feature_scores, y=feature_scores.index)\n",
        "\n",
        "plt.xlabel('Feature Importance Score')\n",
        "plt.ylabel('Features')\n",
        "plt.title(\"Visualizing Important Features\")\n",
        "plt.show()"
      ]
    },
    {
      "cell_type": "markdown",
      "metadata": {
        "id": "RX-IjuTXtbII"
      },
      "source": [
        "Reprocessing the data 30 times to make sure that the metric score and variable importance score are valid"
      ]
    },
    {
      "cell_type": "code",
      "execution_count": null,
      "metadata": {
        "id": "nl1ipIiutbII"
      },
      "outputs": [],
      "source": [
        "def split_rf(data):\n",
        "    prec=0\n",
        "    sens=0\n",
        "    acc=0\n",
        "    f1=0\n",
        "    glucose=0\n",
        "    chol_ratio=0\n",
        "    hdl=0\n",
        "    gender=0\n",
        "    \n",
        "    for i in range (30):\n",
        "        X = data.drop(['Diabetes'], axis=1)\n",
        "        y = data['Diabetes']\n",
        "        X_rf_train, X_rf_test, y_rf_train, y_rf_test = train_test_split(X_rf, y_rf, test_size = 0.3)\n",
        "        \n",
        "        rfc = RandomForestClassifier(n_estimators=100,random_state=0)\n",
        "        rfc.fit(X_rf_train, y_rf_train)\n",
        "        RF=pd.DataFrame(rfc.predict(X_rf_test),columns=['Diabetes_Predicted_RF'])\n",
        "\n",
        "        precision=metrics.precision_score(y_rf_test, RF['Diabetes_Predicted_RF'])\n",
        "        prec+=precision\n",
        "        sensitivity=metrics.recall_score(y_rf_test, RF['Diabetes_Predicted_RF'])\n",
        "        sens+=sensitivity\n",
        "        accuracy=metrics.accuracy_score(y_rf_test,RF['Diabetes_Predicted_RF'])\n",
        "        acc+=accuracy\n",
        "        f1_score=metrics.f1_score(y_rf_test, RF['Diabetes_Predicted_RF'])\n",
        "        f1+=f1_score\n",
        "        \n",
        "        clf = RandomForestClassifier(n_estimators=100, random_state=0)\n",
        "        clf.fit(X_rf_train, y_rf_train)\n",
        "        \n",
        "        feature_scores = pd.Series(clf.feature_importances_, index=X_rf_train.columns).sort_values(ascending=False)\n",
        "        fs=pd.DataFrame(feature_scores)\n",
        "        \n",
        "        for i in range(len(fs)):\n",
        "            if fs.index[i]=='Glucose':\n",
        "                glucose+=fs.iloc[i][0]\n",
        "            elif fs.index[i]=='Chol/HDL ratio':\n",
        "                chol_ratio+=fs.iloc[i][0]\n",
        "            elif fs.index[i]=='HDL Chol':\n",
        "                hdl+=fs.iloc[i][0]\n",
        "            else:\n",
        "                gender+=fs.iloc[i][0]\n",
        "\n",
        "    metric_array = np.array([['Accuracy_mean', acc/30],\n",
        "                            ['Precision_mean', prec/30], ['Sensitivity_mean', sens/30],['F1 Score_mean', f1/30],\n",
        "                            ['Glucose',glucose/30],['Chol/HDL ratio',chol_ratio/30],['HDL Chol',hdl/30],['Gender',gender/30]])\n",
        "    metric_score = pd.DataFrame(metric_array, columns=['Metric_var', 'Score'])\n",
        "    return(metric_score)"
      ]
    },
    {
      "cell_type": "code",
      "execution_count": null,
      "metadata": {
        "scrolled": false,
        "id": "kfbYQor_tbIM",
        "outputId": "9cc2e872-8a28-4fc3-c78f-0f59d74acbc1"
      },
      "outputs": [
        {
          "data": {
            "text/html": [
              "<div>\n",
              "<style scoped>\n",
              "    .dataframe tbody tr th:only-of-type {\n",
              "        vertical-align: middle;\n",
              "    }\n",
              "\n",
              "    .dataframe tbody tr th {\n",
              "        vertical-align: top;\n",
              "    }\n",
              "\n",
              "    .dataframe thead th {\n",
              "        text-align: right;\n",
              "    }\n",
              "</style>\n",
              "<table border=\"1\" class=\"dataframe\">\n",
              "  <thead>\n",
              "    <tr style=\"text-align: right;\">\n",
              "      <th></th>\n",
              "      <th>Metric_var</th>\n",
              "      <th>Score</th>\n",
              "    </tr>\n",
              "  </thead>\n",
              "  <tbody>\n",
              "    <tr>\n",
              "      <th>0</th>\n",
              "      <td>Accuracy_mean</td>\n",
              "      <td>0.9011396011396013</td>\n",
              "    </tr>\n",
              "    <tr>\n",
              "      <th>1</th>\n",
              "      <td>Precision_mean</td>\n",
              "      <td>0.6939541349603272</td>\n",
              "    </tr>\n",
              "    <tr>\n",
              "      <th>2</th>\n",
              "      <td>Sensitivity_mean</td>\n",
              "      <td>0.590899268212332</td>\n",
              "    </tr>\n",
              "    <tr>\n",
              "      <th>3</th>\n",
              "      <td>F1 Score_mean</td>\n",
              "      <td>0.6279708859293726</td>\n",
              "    </tr>\n",
              "    <tr>\n",
              "      <th>4</th>\n",
              "      <td>Glucose</td>\n",
              "      <td>0.6629785614109384</td>\n",
              "    </tr>\n",
              "    <tr>\n",
              "      <th>5</th>\n",
              "      <td>Chol/HDL ratio</td>\n",
              "      <td>0.17878540659282263</td>\n",
              "    </tr>\n",
              "    <tr>\n",
              "      <th>6</th>\n",
              "      <td>HDL Chol</td>\n",
              "      <td>0.13413312931431173</td>\n",
              "    </tr>\n",
              "    <tr>\n",
              "      <th>7</th>\n",
              "      <td>Gender</td>\n",
              "      <td>0.024102902681927465</td>\n",
              "    </tr>\n",
              "  </tbody>\n",
              "</table>\n",
              "</div>"
            ],
            "text/plain": [
              "         Metric_var                 Score\n",
              "0     Accuracy_mean    0.9011396011396013\n",
              "1    Precision_mean    0.6939541349603272\n",
              "2  Sensitivity_mean     0.590899268212332\n",
              "3     F1 Score_mean    0.6279708859293726\n",
              "4           Glucose    0.6629785614109384\n",
              "5    Chol/HDL ratio   0.17878540659282263\n",
              "6          HDL Chol   0.13413312931431173\n",
              "7            Gender  0.024102902681927465"
            ]
          },
          "execution_count": 59,
          "metadata": {},
          "output_type": "execute_result"
        }
      ],
      "source": [
        "rf_score = split_rf(data)\n",
        "rf_score"
      ]
    },
    {
      "cell_type": "code",
      "execution_count": null,
      "metadata": {
        "id": "7Sv8NB2-tbIN",
        "outputId": "cefe9a9d-f2f5-4dff-ba59-00b7da84acdd"
      },
      "outputs": [
        {
          "data": {
            "text/html": [
              "<div>\n",
              "<style scoped>\n",
              "    .dataframe tbody tr th:only-of-type {\n",
              "        vertical-align: middle;\n",
              "    }\n",
              "\n",
              "    .dataframe tbody tr th {\n",
              "        vertical-align: top;\n",
              "    }\n",
              "\n",
              "    .dataframe thead th {\n",
              "        text-align: right;\n",
              "    }\n",
              "</style>\n",
              "<table border=\"1\" class=\"dataframe\">\n",
              "  <thead>\n",
              "    <tr style=\"text-align: right;\">\n",
              "      <th></th>\n",
              "      <th>Metric_var</th>\n",
              "      <th>Score</th>\n",
              "    </tr>\n",
              "  </thead>\n",
              "  <tbody>\n",
              "    <tr>\n",
              "      <th>0</th>\n",
              "      <td>Accuracy_mean</td>\n",
              "      <td>0.9011396011396013</td>\n",
              "    </tr>\n",
              "    <tr>\n",
              "      <th>1</th>\n",
              "      <td>Precision_mean</td>\n",
              "      <td>0.6939541349603272</td>\n",
              "    </tr>\n",
              "    <tr>\n",
              "      <th>2</th>\n",
              "      <td>Sensitivity_mean</td>\n",
              "      <td>0.590899268212332</td>\n",
              "    </tr>\n",
              "    <tr>\n",
              "      <th>3</th>\n",
              "      <td>F1 Score_mean</td>\n",
              "      <td>0.6279708859293726</td>\n",
              "    </tr>\n",
              "  </tbody>\n",
              "</table>\n",
              "</div>"
            ],
            "text/plain": [
              "         Metric_var               Score\n",
              "0     Accuracy_mean  0.9011396011396013\n",
              "1    Precision_mean  0.6939541349603272\n",
              "2  Sensitivity_mean   0.590899268212332\n",
              "3     F1 Score_mean  0.6279708859293726"
            ]
          },
          "execution_count": 60,
          "metadata": {},
          "output_type": "execute_result"
        }
      ],
      "source": [
        "rf_score = rf_score.iloc[:4]\n",
        "rf_score"
      ]
    },
    {
      "cell_type": "code",
      "execution_count": null,
      "metadata": {
        "id": "RfSvqILjtbIP"
      },
      "outputs": [],
      "source": [
        "rf_score.columns = ['Metric_mean', 'Score']"
      ]
    },
    {
      "cell_type": "markdown",
      "metadata": {
        "id": "DD5XjEu1tbIQ"
      },
      "source": [
        "The F1 score from metric score above is still classified as good. For the variables that are used, we drop the variable below 10% importance variable score. Therefore, we drop `Gender`"
      ]
    },
    {
      "cell_type": "markdown",
      "metadata": {
        "id": "xgod7wnitbIR"
      },
      "source": [
        "Since we drop `Gender`, we will run Naive Bayes and Random Forest method one more time with just `Glucose`, `Chol/HDL ratio`, and `HDL Chol`"
      ]
    },
    {
      "cell_type": "markdown",
      "metadata": {
        "id": "NYw00LWItbIR"
      },
      "source": [
        "### Naive Bayes Without Gender"
      ]
    },
    {
      "cell_type": "code",
      "execution_count": null,
      "metadata": {
        "id": "Ih3SxtAMtbIS"
      },
      "outputs": [],
      "source": [
        "X2 = data.drop(['Gender','Diabetes'], axis=1)\n",
        "y2 = data['Diabetes']"
      ]
    },
    {
      "cell_type": "code",
      "execution_count": null,
      "metadata": {
        "id": "sA7Sa9gPtbIT"
      },
      "outputs": [],
      "source": [
        "from sklearn.model_selection import train_test_split\n",
        "\n",
        "X2_train, X2_test, y2_train, y2_test = train_test_split(X2, y2, test_size = 0.3, random_state = 42)"
      ]
    },
    {
      "cell_type": "code",
      "execution_count": null,
      "metadata": {
        "id": "iIWhCVBZtbIU",
        "outputId": "3fb3fa28-3fc2-4e03-b9fe-65ba21de34d9"
      },
      "outputs": [
        {
          "data": {
            "text/plain": [
              "((273, 3), (117, 3))"
            ]
          },
          "execution_count": 64,
          "metadata": {},
          "output_type": "execute_result"
        }
      ],
      "source": [
        "X2_train.shape, X2_test.shape"
      ]
    },
    {
      "cell_type": "code",
      "execution_count": null,
      "metadata": {
        "id": "4gDR7gSHtbIU",
        "outputId": "aebe0635-d3ec-4619-8523-38e9441bf307"
      },
      "outputs": [
        {
          "data": {
            "text/plain": [
              "GaussianNB()"
            ]
          },
          "execution_count": 65,
          "metadata": {},
          "output_type": "execute_result"
        }
      ],
      "source": [
        "from sklearn.naive_bayes import GaussianNB\n",
        "gnb2 = GaussianNB()\n",
        "gnb2.fit(X2_train, y2_train)"
      ]
    },
    {
      "cell_type": "code",
      "execution_count": null,
      "metadata": {
        "id": "Tq-0OVngtbIW",
        "outputId": "ce7e74af-e5d7-407e-a15d-eaba752b6698"
      },
      "outputs": [
        {
          "data": {
            "text/html": [
              "<div>\n",
              "<style scoped>\n",
              "    .dataframe tbody tr th:only-of-type {\n",
              "        vertical-align: middle;\n",
              "    }\n",
              "\n",
              "    .dataframe tbody tr th {\n",
              "        vertical-align: top;\n",
              "    }\n",
              "\n",
              "    .dataframe thead th {\n",
              "        text-align: right;\n",
              "    }\n",
              "</style>\n",
              "<table border=\"1\" class=\"dataframe\">\n",
              "  <thead>\n",
              "    <tr style=\"text-align: right;\">\n",
              "      <th></th>\n",
              "      <th>Diabetes_Predicted_NB</th>\n",
              "    </tr>\n",
              "  </thead>\n",
              "  <tbody>\n",
              "    <tr>\n",
              "      <th>0</th>\n",
              "      <td>0</td>\n",
              "    </tr>\n",
              "    <tr>\n",
              "      <th>1</th>\n",
              "      <td>0</td>\n",
              "    </tr>\n",
              "    <tr>\n",
              "      <th>2</th>\n",
              "      <td>0</td>\n",
              "    </tr>\n",
              "    <tr>\n",
              "      <th>3</th>\n",
              "      <td>1</td>\n",
              "    </tr>\n",
              "    <tr>\n",
              "      <th>4</th>\n",
              "      <td>1</td>\n",
              "    </tr>\n",
              "  </tbody>\n",
              "</table>\n",
              "</div>"
            ],
            "text/plain": [
              "   Diabetes_Predicted_NB\n",
              "0                      0\n",
              "1                      0\n",
              "2                      0\n",
              "3                      1\n",
              "4                      1"
            ]
          },
          "execution_count": 66,
          "metadata": {},
          "output_type": "execute_result"
        }
      ],
      "source": [
        "NB2=pd.DataFrame(gnb2.predict(X2_test),columns=['Diabetes_Predicted_NB'])\n",
        "NB2.head()"
      ]
    },
    {
      "cell_type": "code",
      "execution_count": null,
      "metadata": {
        "id": "Oq9hDmzGtbIX",
        "outputId": "f0b09ba8-e3a2-48a1-c85f-fec46e0f6509"
      },
      "outputs": [
        {
          "data": {
            "text/html": [
              "<div>\n",
              "<style scoped>\n",
              "    .dataframe tbody tr th:only-of-type {\n",
              "        vertical-align: middle;\n",
              "    }\n",
              "\n",
              "    .dataframe tbody tr th {\n",
              "        vertical-align: top;\n",
              "    }\n",
              "\n",
              "    .dataframe thead th {\n",
              "        text-align: right;\n",
              "    }\n",
              "</style>\n",
              "<table border=\"1\" class=\"dataframe\">\n",
              "  <thead>\n",
              "    <tr style=\"text-align: right;\">\n",
              "      <th></th>\n",
              "      <th>Metric</th>\n",
              "      <th>Score</th>\n",
              "    </tr>\n",
              "  </thead>\n",
              "  <tbody>\n",
              "    <tr>\n",
              "      <th>0</th>\n",
              "      <td>Accuracy</td>\n",
              "      <td>0.8803418803418803</td>\n",
              "    </tr>\n",
              "    <tr>\n",
              "      <th>1</th>\n",
              "      <td>Precision</td>\n",
              "      <td>0.7272727272727273</td>\n",
              "    </tr>\n",
              "    <tr>\n",
              "      <th>2</th>\n",
              "      <td>Sensitivity</td>\n",
              "      <td>0.6666666666666666</td>\n",
              "    </tr>\n",
              "    <tr>\n",
              "      <th>3</th>\n",
              "      <td>F1 Score</td>\n",
              "      <td>0.6956521739130435</td>\n",
              "    </tr>\n",
              "  </tbody>\n",
              "</table>\n",
              "</div>"
            ],
            "text/plain": [
              "        Metric               Score\n",
              "0     Accuracy  0.8803418803418803\n",
              "1    Precision  0.7272727272727273\n",
              "2  Sensitivity  0.6666666666666666\n",
              "3     F1 Score  0.6956521739130435"
            ]
          },
          "execution_count": 67,
          "metadata": {},
          "output_type": "execute_result"
        }
      ],
      "source": [
        "metric_score(y2_test,NB2['Diabetes_Predicted_NB'])"
      ]
    },
    {
      "cell_type": "code",
      "execution_count": null,
      "metadata": {
        "id": "_pPl38MbtbIX"
      },
      "outputs": [],
      "source": [
        "y2_pred_train = gnb2.predict(X2_train)"
      ]
    },
    {
      "cell_type": "code",
      "execution_count": null,
      "metadata": {
        "id": "dhyEqmoptbIZ",
        "outputId": "a3e94fd4-8b03-4446-e277-e3eb796e2c6f"
      },
      "outputs": [
        {
          "data": {
            "text/html": [
              "<div>\n",
              "<style scoped>\n",
              "    .dataframe tbody tr th:only-of-type {\n",
              "        vertical-align: middle;\n",
              "    }\n",
              "\n",
              "    .dataframe tbody tr th {\n",
              "        vertical-align: top;\n",
              "    }\n",
              "\n",
              "    .dataframe thead th {\n",
              "        text-align: right;\n",
              "    }\n",
              "</style>\n",
              "<table border=\"1\" class=\"dataframe\">\n",
              "  <thead>\n",
              "    <tr style=\"text-align: right;\">\n",
              "      <th></th>\n",
              "      <th>Metric</th>\n",
              "      <th>Score</th>\n",
              "    </tr>\n",
              "  </thead>\n",
              "  <tbody>\n",
              "    <tr>\n",
              "      <th>0</th>\n",
              "      <td>Accuracy</td>\n",
              "      <td>0.9487179487179487</td>\n",
              "    </tr>\n",
              "    <tr>\n",
              "      <th>1</th>\n",
              "      <td>Precision</td>\n",
              "      <td>0.8666666666666667</td>\n",
              "    </tr>\n",
              "    <tr>\n",
              "      <th>2</th>\n",
              "      <td>Sensitivity</td>\n",
              "      <td>0.7222222222222222</td>\n",
              "    </tr>\n",
              "    <tr>\n",
              "      <th>3</th>\n",
              "      <td>F1 Score</td>\n",
              "      <td>0.7878787878787877</td>\n",
              "    </tr>\n",
              "  </tbody>\n",
              "</table>\n",
              "</div>"
            ],
            "text/plain": [
              "        Metric               Score\n",
              "0     Accuracy  0.9487179487179487\n",
              "1    Precision  0.8666666666666667\n",
              "2  Sensitivity  0.7222222222222222\n",
              "3     F1 Score  0.7878787878787877"
            ]
          },
          "execution_count": 69,
          "metadata": {},
          "output_type": "execute_result"
        }
      ],
      "source": [
        "metric_score(y2_train,y2_pred_train)"
      ]
    },
    {
      "cell_type": "code",
      "execution_count": null,
      "metadata": {
        "id": "cOTfhB_HtbIb",
        "outputId": "62a2f17f-a2ae-4d8e-e683-8824c9bbf16b"
      },
      "outputs": [
        {
          "data": {
            "text/html": [
              "<div>\n",
              "<style scoped>\n",
              "    .dataframe tbody tr th:only-of-type {\n",
              "        vertical-align: middle;\n",
              "    }\n",
              "\n",
              "    .dataframe tbody tr th {\n",
              "        vertical-align: top;\n",
              "    }\n",
              "\n",
              "    .dataframe thead th {\n",
              "        text-align: right;\n",
              "    }\n",
              "</style>\n",
              "<table border=\"1\" class=\"dataframe\">\n",
              "  <thead>\n",
              "    <tr style=\"text-align: right;\">\n",
              "      <th></th>\n",
              "      <th>No Diabetes</th>\n",
              "      <th>Diabetes</th>\n",
              "    </tr>\n",
              "  </thead>\n",
              "  <tbody>\n",
              "    <tr>\n",
              "      <th>No Diabetes</th>\n",
              "      <td>87</td>\n",
              "      <td>6</td>\n",
              "    </tr>\n",
              "    <tr>\n",
              "      <th>Diabetes</th>\n",
              "      <td>8</td>\n",
              "      <td>16</td>\n",
              "    </tr>\n",
              "  </tbody>\n",
              "</table>\n",
              "</div>"
            ],
            "text/plain": [
              "             No Diabetes  Diabetes\n",
              "No Diabetes           87         6\n",
              "Diabetes               8        16"
            ]
          },
          "execution_count": 70,
          "metadata": {},
          "output_type": "execute_result"
        }
      ],
      "source": [
        "cm2 = confusion_matrix(y2_test, NB2['Diabetes_Predicted_NB'])\n",
        "cm_df2=pd.DataFrame(cm2,columns=['No Diabetes','Diabetes'],index=['No Diabetes', 'Diabetes'])\n",
        "cm_df2"
      ]
    },
    {
      "cell_type": "code",
      "execution_count": null,
      "metadata": {
        "id": "y7NiU5_PtbId",
        "outputId": "9fbd577c-3574-454b-a20b-6ca70844b31e"
      },
      "outputs": [
        {
          "data": {
            "text/plain": [
              "<AxesSubplot:>"
            ]
          },
          "execution_count": 71,
          "metadata": {},
          "output_type": "execute_result"
        },
        {
          "data": {
            "image/png": "[encoded data removed]",
            "text/plain": [
              "<Figure size 432x288 with 2 Axes>"
            ]
          },
          "metadata": {
            "needs_background": "light"
          },
          "output_type": "display_data"
        }
      ],
      "source": [
        "sns.heatmap(cm_df2, annot=True, fmt='d', cmap='YlGnBu')"
      ]
    },
    {
      "cell_type": "code",
      "execution_count": null,
      "metadata": {
        "id": "XUlicAXPtbIf"
      },
      "outputs": [],
      "source": [
        "def split2(data):\n",
        "    prec=0\n",
        "    sens=0\n",
        "    acc=0\n",
        "    f1=0\n",
        "    \n",
        "    for i in range (30):\n",
        "        X2 = data.drop(['Gender','Diabetes'], axis=1)\n",
        "        y2 = data['Diabetes']\n",
        "        X2_train, X2_test, y2_train, y2_test = train_test_split(X2, y2, test_size = 0.3)\n",
        "\n",
        "        gnb2 = GaussianNB()\n",
        "        gnb2.fit(X2_train, y2_train)\n",
        "\n",
        "        NB2=pd.DataFrame(gnb2.predict(X2_test))\n",
        "        NB2.columns=['Diabetes_Predicted_NB']\n",
        "\n",
        "        precision=metrics.precision_score(y2_test, NB2['Diabetes_Predicted_NB'])\n",
        "        prec+=precision\n",
        "        sensitivity=metrics.recall_score(y2_test, NB2['Diabetes_Predicted_NB'])\n",
        "        sens+=sensitivity\n",
        "        accuracy=metrics.accuracy_score(y2_test,NB2['Diabetes_Predicted_NB'])\n",
        "        acc+=accuracy\n",
        "        f1_score=metrics.f1_score(y2_test, NB2['Diabetes_Predicted_NB'])\n",
        "        f1+=f1_score\n",
        "\n",
        "    metric_array = np.array([['Accuracy_mean', acc/30],\n",
        "                                   ['Precision_mean', prec/30], ['Sensitivity_mean', sens/30],['F1 Score_mean', f1/30]])\n",
        "    metric_score = pd.DataFrame(metric_array, columns=['Metric_mean', 'Score'])\n",
        "    return(metric_score)"
      ]
    },
    {
      "cell_type": "code",
      "execution_count": null,
      "metadata": {
        "id": "h7qCCmrqtbIg",
        "outputId": "4eb5b87c-2688-4ba2-f609-6fee0e22bc3c"
      },
      "outputs": [
        {
          "data": {
            "text/html": [
              "<div>\n",
              "<style scoped>\n",
              "    .dataframe tbody tr th:only-of-type {\n",
              "        vertical-align: middle;\n",
              "    }\n",
              "\n",
              "    .dataframe tbody tr th {\n",
              "        vertical-align: top;\n",
              "    }\n",
              "\n",
              "    .dataframe thead th {\n",
              "        text-align: right;\n",
              "    }\n",
              "</style>\n",
              "<table border=\"1\" class=\"dataframe\">\n",
              "  <thead>\n",
              "    <tr style=\"text-align: right;\">\n",
              "      <th></th>\n",
              "      <th>Metric_mean</th>\n",
              "      <th>Score</th>\n",
              "    </tr>\n",
              "  </thead>\n",
              "  <tbody>\n",
              "    <tr>\n",
              "      <th>0</th>\n",
              "      <td>Accuracy_mean</td>\n",
              "      <td>0.9256410256410258</td>\n",
              "    </tr>\n",
              "    <tr>\n",
              "      <th>1</th>\n",
              "      <td>Precision_mean</td>\n",
              "      <td>0.8036528139043619</td>\n",
              "    </tr>\n",
              "    <tr>\n",
              "      <th>2</th>\n",
              "      <td>Sensitivity_mean</td>\n",
              "      <td>0.6660164261599514</td>\n",
              "    </tr>\n",
              "    <tr>\n",
              "      <th>3</th>\n",
              "      <td>F1 Score_mean</td>\n",
              "      <td>0.7229752114609453</td>\n",
              "    </tr>\n",
              "  </tbody>\n",
              "</table>\n",
              "</div>"
            ],
            "text/plain": [
              "        Metric_mean               Score\n",
              "0     Accuracy_mean  0.9256410256410258\n",
              "1    Precision_mean  0.8036528139043619\n",
              "2  Sensitivity_mean  0.6660164261599514\n",
              "3     F1 Score_mean  0.7229752114609453"
            ]
          },
          "execution_count": 73,
          "metadata": {},
          "output_type": "execute_result"
        }
      ],
      "source": [
        "NB2_score=split2(data)\n",
        "NB2_score"
      ]
    },
    {
      "cell_type": "markdown",
      "metadata": {
        "id": "WX8U2LbitbIh"
      },
      "source": [
        "### Random Forest Without Gender"
      ]
    },
    {
      "cell_type": "code",
      "execution_count": null,
      "metadata": {
        "id": "Jusi_VCMtbIi"
      },
      "outputs": [],
      "source": [
        "X2_rf = data.drop(['Gender','Diabetes'], axis=1)\n",
        "y2_rf = data['Diabetes']\n",
        "\n",
        "X2_rf_train, X2_rf_test, y2_rf_train, y2_rf_test = train_test_split(X2_rf, y2_rf, test_size = 0.3, random_state = 0)"
      ]
    },
    {
      "cell_type": "code",
      "execution_count": null,
      "metadata": {
        "id": "YDKzzB9KtbIi",
        "outputId": "c8c7bc90-ba2b-489e-88ab-494aac31a118"
      },
      "outputs": [
        {
          "data": {
            "text/plain": [
              "((273, 3), (117, 3))"
            ]
          },
          "execution_count": 75,
          "metadata": {},
          "output_type": "execute_result"
        }
      ],
      "source": [
        "X2_rf_train.shape, X2_rf_test.shape"
      ]
    },
    {
      "cell_type": "code",
      "execution_count": null,
      "metadata": {
        "id": "AR30YDzFtbIj"
      },
      "outputs": [],
      "source": [
        "rfc2 = RandomForestClassifier(n_estimators=100,random_state=0)"
      ]
    },
    {
      "cell_type": "code",
      "execution_count": null,
      "metadata": {
        "id": "rwEFS_D_tbIk",
        "outputId": "eec07c78-4bf2-4fcb-8e84-2fda9cf2354f"
      },
      "outputs": [
        {
          "data": {
            "text/html": [
              "<div>\n",
              "<style scoped>\n",
              "    .dataframe tbody tr th:only-of-type {\n",
              "        vertical-align: middle;\n",
              "    }\n",
              "\n",
              "    .dataframe tbody tr th {\n",
              "        vertical-align: top;\n",
              "    }\n",
              "\n",
              "    .dataframe thead th {\n",
              "        text-align: right;\n",
              "    }\n",
              "</style>\n",
              "<table border=\"1\" class=\"dataframe\">\n",
              "  <thead>\n",
              "    <tr style=\"text-align: right;\">\n",
              "      <th></th>\n",
              "      <th>Diabetes_Predicted_RF</th>\n",
              "    </tr>\n",
              "  </thead>\n",
              "  <tbody>\n",
              "    <tr>\n",
              "      <th>0</th>\n",
              "      <td>0</td>\n",
              "    </tr>\n",
              "    <tr>\n",
              "      <th>1</th>\n",
              "      <td>0</td>\n",
              "    </tr>\n",
              "    <tr>\n",
              "      <th>2</th>\n",
              "      <td>0</td>\n",
              "    </tr>\n",
              "    <tr>\n",
              "      <th>3</th>\n",
              "      <td>0</td>\n",
              "    </tr>\n",
              "    <tr>\n",
              "      <th>4</th>\n",
              "      <td>0</td>\n",
              "    </tr>\n",
              "  </tbody>\n",
              "</table>\n",
              "</div>"
            ],
            "text/plain": [
              "   Diabetes_Predicted_RF\n",
              "0                      0\n",
              "1                      0\n",
              "2                      0\n",
              "3                      0\n",
              "4                      0"
            ]
          },
          "execution_count": 77,
          "metadata": {},
          "output_type": "execute_result"
        }
      ],
      "source": [
        "rfc2.fit(X2_rf_train, y2_rf_train)\n",
        "RF2=pd.DataFrame(rfc2.predict(X2_rf_test),columns=['Diabetes_Predicted_RF'])\n",
        "RF2.head()"
      ]
    },
    {
      "cell_type": "code",
      "execution_count": null,
      "metadata": {
        "id": "PCCW0JH1tbIl",
        "outputId": "3a90cf21-138e-4d58-ecd8-d21075c29bc5"
      },
      "outputs": [
        {
          "data": {
            "text/html": [
              "<div>\n",
              "<style scoped>\n",
              "    .dataframe tbody tr th:only-of-type {\n",
              "        vertical-align: middle;\n",
              "    }\n",
              "\n",
              "    .dataframe tbody tr th {\n",
              "        vertical-align: top;\n",
              "    }\n",
              "\n",
              "    .dataframe thead th {\n",
              "        text-align: right;\n",
              "    }\n",
              "</style>\n",
              "<table border=\"1\" class=\"dataframe\">\n",
              "  <thead>\n",
              "    <tr style=\"text-align: right;\">\n",
              "      <th></th>\n",
              "      <th>Metric</th>\n",
              "      <th>Score</th>\n",
              "    </tr>\n",
              "  </thead>\n",
              "  <tbody>\n",
              "    <tr>\n",
              "      <th>0</th>\n",
              "      <td>Accuracy</td>\n",
              "      <td>0.8888888888888888</td>\n",
              "    </tr>\n",
              "    <tr>\n",
              "      <th>1</th>\n",
              "      <td>Precision</td>\n",
              "      <td>0.8461538461538461</td>\n",
              "    </tr>\n",
              "    <tr>\n",
              "      <th>2</th>\n",
              "      <td>Sensitivity</td>\n",
              "      <td>0.5</td>\n",
              "    </tr>\n",
              "    <tr>\n",
              "      <th>3</th>\n",
              "      <td>F1 Score</td>\n",
              "      <td>0.6285714285714286</td>\n",
              "    </tr>\n",
              "  </tbody>\n",
              "</table>\n",
              "</div>"
            ],
            "text/plain": [
              "        Metric               Score\n",
              "0     Accuracy  0.8888888888888888\n",
              "1    Precision  0.8461538461538461\n",
              "2  Sensitivity                 0.5\n",
              "3     F1 Score  0.6285714285714286"
            ]
          },
          "execution_count": 78,
          "metadata": {},
          "output_type": "execute_result"
        }
      ],
      "source": [
        "metric_score(y2_rf_test,RF2['Diabetes_Predicted_RF'])"
      ]
    },
    {
      "cell_type": "code",
      "execution_count": null,
      "metadata": {
        "id": "InVnFuTItbIm"
      },
      "outputs": [],
      "source": [
        "rfc2.fit(X2_rf_train, y2_rf_train)\n",
        "yrf2_pred_train = rfc2.predict(X2_rf_train)"
      ]
    },
    {
      "cell_type": "code",
      "execution_count": null,
      "metadata": {
        "id": "XZmi8NpUtbIn",
        "outputId": "82fa3d48-31af-4511-b4f3-03dfd41310df"
      },
      "outputs": [
        {
          "data": {
            "text/html": [
              "<div>\n",
              "<style scoped>\n",
              "    .dataframe tbody tr th:only-of-type {\n",
              "        vertical-align: middle;\n",
              "    }\n",
              "\n",
              "    .dataframe tbody tr th {\n",
              "        vertical-align: top;\n",
              "    }\n",
              "\n",
              "    .dataframe thead th {\n",
              "        text-align: right;\n",
              "    }\n",
              "</style>\n",
              "<table border=\"1\" class=\"dataframe\">\n",
              "  <thead>\n",
              "    <tr style=\"text-align: right;\">\n",
              "      <th></th>\n",
              "      <th>Metric</th>\n",
              "      <th>Score</th>\n",
              "    </tr>\n",
              "  </thead>\n",
              "  <tbody>\n",
              "    <tr>\n",
              "      <th>0</th>\n",
              "      <td>Accuracy</td>\n",
              "      <td>0.9963369963369964</td>\n",
              "    </tr>\n",
              "    <tr>\n",
              "      <th>1</th>\n",
              "      <td>Precision</td>\n",
              "      <td>1.0</td>\n",
              "    </tr>\n",
              "    <tr>\n",
              "      <th>2</th>\n",
              "      <td>Sensitivity</td>\n",
              "      <td>0.9736842105263158</td>\n",
              "    </tr>\n",
              "    <tr>\n",
              "      <th>3</th>\n",
              "      <td>F1 Score</td>\n",
              "      <td>0.9866666666666666</td>\n",
              "    </tr>\n",
              "  </tbody>\n",
              "</table>\n",
              "</div>"
            ],
            "text/plain": [
              "        Metric               Score\n",
              "0     Accuracy  0.9963369963369964\n",
              "1    Precision                 1.0\n",
              "2  Sensitivity  0.9736842105263158\n",
              "3     F1 Score  0.9866666666666666"
            ]
          },
          "execution_count": 80,
          "metadata": {},
          "output_type": "execute_result"
        }
      ],
      "source": [
        "metric_score(y2_rf_train,yrf2_pred_train)"
      ]
    },
    {
      "cell_type": "code",
      "execution_count": null,
      "metadata": {
        "id": "zDVFv286tbIo",
        "outputId": "530c2fc4-4168-407d-abc1-c352aa3c0dfc"
      },
      "outputs": [
        {
          "data": {
            "text/html": [
              "<div>\n",
              "<style scoped>\n",
              "    .dataframe tbody tr th:only-of-type {\n",
              "        vertical-align: middle;\n",
              "    }\n",
              "\n",
              "    .dataframe tbody tr th {\n",
              "        vertical-align: top;\n",
              "    }\n",
              "\n",
              "    .dataframe thead th {\n",
              "        text-align: right;\n",
              "    }\n",
              "</style>\n",
              "<table border=\"1\" class=\"dataframe\">\n",
              "  <thead>\n",
              "    <tr style=\"text-align: right;\">\n",
              "      <th></th>\n",
              "      <th>No Diabetes</th>\n",
              "      <th>Diabetes</th>\n",
              "    </tr>\n",
              "  </thead>\n",
              "  <tbody>\n",
              "    <tr>\n",
              "      <th>No Diabetes</th>\n",
              "      <td>93</td>\n",
              "      <td>2</td>\n",
              "    </tr>\n",
              "    <tr>\n",
              "      <th>Diabetes</th>\n",
              "      <td>11</td>\n",
              "      <td>11</td>\n",
              "    </tr>\n",
              "  </tbody>\n",
              "</table>\n",
              "</div>"
            ],
            "text/plain": [
              "             No Diabetes  Diabetes\n",
              "No Diabetes           93         2\n",
              "Diabetes              11        11"
            ]
          },
          "execution_count": 81,
          "metadata": {},
          "output_type": "execute_result"
        }
      ],
      "source": [
        "cm_rf2 = confusion_matrix(y2_rf_test, RF2['Diabetes_Predicted_RF'])\n",
        "cm_rf2=pd.DataFrame(cm_rf2,columns=['No Diabetes','Diabetes'],index=['No Diabetes', 'Diabetes'])\n",
        "cm_rf2"
      ]
    },
    {
      "cell_type": "code",
      "execution_count": null,
      "metadata": {
        "id": "fQS1H0BytbIq",
        "outputId": "97f3c4a3-a00d-4962-c682-47754a47db82"
      },
      "outputs": [
        {
          "data": {
            "text/plain": [
              "<AxesSubplot:>"
            ]
          },
          "execution_count": 82,
          "metadata": {},
          "output_type": "execute_result"
        },
        {
          "data": {
            "image/png": "[encoded data removed]",
            "text/plain": [
              "<Figure size 432x288 with 2 Axes>"
            ]
          },
          "metadata": {
            "needs_background": "light"
          },
          "output_type": "display_data"
        }
      ],
      "source": [
        "sns.heatmap(cm_rf2, annot=True, fmt='d', cmap='YlGnBu')"
      ]
    },
    {
      "cell_type": "code",
      "execution_count": null,
      "metadata": {
        "id": "FKU_8WPStbIr",
        "outputId": "f02a08c8-3259-4e12-f2a7-ce288aaa9c24"
      },
      "outputs": [
        {
          "data": {
            "text/plain": [
              "RandomForestClassifier(random_state=0)"
            ]
          },
          "execution_count": 83,
          "metadata": {},
          "output_type": "execute_result"
        }
      ],
      "source": [
        "clf2 = RandomForestClassifier(n_estimators=100, random_state=0)\n",
        "clf2.fit(X2_rf_train, y2_rf_train)"
      ]
    },
    {
      "cell_type": "code",
      "execution_count": null,
      "metadata": {
        "id": "gpORWN4ytbIr",
        "outputId": "bcfd4690-492b-415c-d2ca-906e9067ed10"
      },
      "outputs": [
        {
          "data": {
            "text/plain": [
              "Glucose           0.667656\n",
              "Chol/HDL ratio    0.178133\n",
              "HDL Chol          0.154211\n",
              "dtype: float64"
            ]
          },
          "execution_count": 84,
          "metadata": {},
          "output_type": "execute_result"
        }
      ],
      "source": [
        "feature_scores2 = pd.Series(clf2.feature_importances_, index=X2_rf_train.columns).sort_values(ascending=False)\n",
        "feature_scores2"
      ]
    },
    {
      "cell_type": "code",
      "execution_count": null,
      "metadata": {
        "id": "ypuOwn7VtbIw",
        "outputId": "aa55d09e-60bd-461f-c99d-70923fa1264c"
      },
      "outputs": [
        {
          "data": {
            "image/png": "[encoded data removed]",
            "text/plain": [
              "<Figure size 432x288 with 1 Axes>"
            ]
          },
          "metadata": {
            "needs_background": "light"
          },
          "output_type": "display_data"
        }
      ],
      "source": [
        "sns.barplot(x=feature_scores2, y=feature_scores2.index)\n",
        "\n",
        "plt.xlabel('Feature Importance Score')\n",
        "plt.ylabel('Features')\n",
        "plt.title(\"Visualizing Important Features\")\n",
        "plt.show()"
      ]
    },
    {
      "cell_type": "code",
      "execution_count": null,
      "metadata": {
        "id": "5G7c1F5BtbJQ"
      },
      "outputs": [],
      "source": [
        "def split_rf2(data):\n",
        "    prec=0\n",
        "    sens=0\n",
        "    acc=0\n",
        "    f1=0\n",
        "    glucose=0\n",
        "    chol_ratio=0\n",
        "    hdl=0\n",
        "    gender=0\n",
        "    \n",
        "    for i in range (30):\n",
        "        X2_rf = data.drop(['Gender','Diabetes'], axis=1)\n",
        "        y2_rf = data['Diabetes']\n",
        "        X2_rf_train, X2_rf_test, y2_rf_train, y2_rf_test = train_test_split(X2_rf, y2_rf, test_size = 0.3)\n",
        "        \n",
        "        rfc2 = RandomForestClassifier(n_estimators=100,random_state=0)\n",
        "        rfc2.fit(X2_rf_train, y2_rf_train)\n",
        "        RF2=pd.DataFrame(rfc2.predict(X2_rf_test),columns=['Diabetes_Predicted_RF'])\n",
        "\n",
        "        precision=metrics.precision_score(y2_rf_test, RF2['Diabetes_Predicted_RF'])\n",
        "        prec+=precision\n",
        "        sensitivity=metrics.recall_score(y2_rf_test, RF2['Diabetes_Predicted_RF'])\n",
        "        sens+=sensitivity\n",
        "        accuracy=metrics.accuracy_score(y2_rf_test,RF2['Diabetes_Predicted_RF'])\n",
        "        acc+=accuracy\n",
        "        f1_score=metrics.f1_score(y2_rf_test, RF2['Diabetes_Predicted_RF'])\n",
        "        f1+=f1_score\n",
        "        \n",
        "        clf2 = RandomForestClassifier(n_estimators=100, random_state=0)\n",
        "        clf2.fit(X2_rf_train, y2_rf_train)\n",
        "        \n",
        "        feature_scores2 = pd.Series(clf2.feature_importances_, index=X2_rf_train.columns).sort_values(ascending=False)\n",
        "        fs2=pd.DataFrame(feature_scores2)\n",
        "        \n",
        "        for i in range(len(fs2)):\n",
        "            if fs2.index[i]=='Glucose':\n",
        "                glucose+=fs2.iloc[i][0]\n",
        "            elif fs2.index[i]=='Chol/HDL ratio':\n",
        "                chol_ratio+=fs2.iloc[i][0]\n",
        "            else: \n",
        "                hdl+=fs2.iloc[i][0]\n",
        "\n",
        "\n",
        "    metric_array = np.array([['Accuracy_mean', acc/30],\n",
        "                            ['Precision_mean', prec/30], ['Sensitivity_mean', sens/30],['F1 Score_mean', f1/30],\n",
        "                            ['Glucose',glucose/30],['Chol/HDL ratio',chol_ratio/30],['HDL Chol',hdl/30]])\n",
        "    metric_score = pd.DataFrame(metric_array, columns=['Metric_var', 'Score'])\n",
        "    return(metric_score)"
      ]
    },
    {
      "cell_type": "code",
      "execution_count": null,
      "metadata": {
        "id": "Y-RGCXWftbJS",
        "outputId": "5581f363-5d36-431f-8bfb-c3231d0e28fe"
      },
      "outputs": [
        {
          "data": {
            "text/html": [
              "<div>\n",
              "<style scoped>\n",
              "    .dataframe tbody tr th:only-of-type {\n",
              "        vertical-align: middle;\n",
              "    }\n",
              "\n",
              "    .dataframe tbody tr th {\n",
              "        vertical-align: top;\n",
              "    }\n",
              "\n",
              "    .dataframe thead th {\n",
              "        text-align: right;\n",
              "    }\n",
              "</style>\n",
              "<table border=\"1\" class=\"dataframe\">\n",
              "  <thead>\n",
              "    <tr style=\"text-align: right;\">\n",
              "      <th></th>\n",
              "      <th>Metric_var</th>\n",
              "      <th>Score</th>\n",
              "    </tr>\n",
              "  </thead>\n",
              "  <tbody>\n",
              "    <tr>\n",
              "      <th>0</th>\n",
              "      <td>Accuracy_mean</td>\n",
              "      <td>0.9065527065527068</td>\n",
              "    </tr>\n",
              "    <tr>\n",
              "      <th>1</th>\n",
              "      <td>Precision_mean</td>\n",
              "      <td>0.7560474100489581</td>\n",
              "    </tr>\n",
              "    <tr>\n",
              "      <th>2</th>\n",
              "      <td>Sensitivity_mean</td>\n",
              "      <td>0.5994157301384048</td>\n",
              "    </tr>\n",
              "    <tr>\n",
              "      <th>3</th>\n",
              "      <td>F1 Score_mean</td>\n",
              "      <td>0.6608544110040364</td>\n",
              "    </tr>\n",
              "    <tr>\n",
              "      <th>4</th>\n",
              "      <td>Glucose</td>\n",
              "      <td>0.6092120725480153</td>\n",
              "    </tr>\n",
              "    <tr>\n",
              "      <th>5</th>\n",
              "      <td>Chol/HDL ratio</td>\n",
              "      <td>0.20724805407930896</td>\n",
              "    </tr>\n",
              "    <tr>\n",
              "      <th>6</th>\n",
              "      <td>HDL Chol</td>\n",
              "      <td>0.18353987337267588</td>\n",
              "    </tr>\n",
              "  </tbody>\n",
              "</table>\n",
              "</div>"
            ],
            "text/plain": [
              "         Metric_var                Score\n",
              "0     Accuracy_mean   0.9065527065527068\n",
              "1    Precision_mean   0.7560474100489581\n",
              "2  Sensitivity_mean   0.5994157301384048\n",
              "3     F1 Score_mean   0.6608544110040364\n",
              "4           Glucose   0.6092120725480153\n",
              "5    Chol/HDL ratio  0.20724805407930896\n",
              "6          HDL Chol  0.18353987337267588"
            ]
          },
          "execution_count": 87,
          "metadata": {},
          "output_type": "execute_result"
        }
      ],
      "source": [
        "rf2_score = split_rf2(data)\n",
        "rf2_score"
      ]
    },
    {
      "cell_type": "code",
      "execution_count": null,
      "metadata": {
        "id": "gKgxHNLktbJT",
        "outputId": "5f4ef7c8-73c3-4cec-f87a-26c40031e078"
      },
      "outputs": [
        {
          "data": {
            "text/html": [
              "<div>\n",
              "<style scoped>\n",
              "    .dataframe tbody tr th:only-of-type {\n",
              "        vertical-align: middle;\n",
              "    }\n",
              "\n",
              "    .dataframe tbody tr th {\n",
              "        vertical-align: top;\n",
              "    }\n",
              "\n",
              "    .dataframe thead th {\n",
              "        text-align: right;\n",
              "    }\n",
              "</style>\n",
              "<table border=\"1\" class=\"dataframe\">\n",
              "  <thead>\n",
              "    <tr style=\"text-align: right;\">\n",
              "      <th></th>\n",
              "      <th>Metric_var</th>\n",
              "      <th>Score</th>\n",
              "    </tr>\n",
              "  </thead>\n",
              "  <tbody>\n",
              "    <tr>\n",
              "      <th>0</th>\n",
              "      <td>Accuracy_mean</td>\n",
              "      <td>0.9065527065527068</td>\n",
              "    </tr>\n",
              "    <tr>\n",
              "      <th>1</th>\n",
              "      <td>Precision_mean</td>\n",
              "      <td>0.7560474100489581</td>\n",
              "    </tr>\n",
              "    <tr>\n",
              "      <th>2</th>\n",
              "      <td>Sensitivity_mean</td>\n",
              "      <td>0.5994157301384048</td>\n",
              "    </tr>\n",
              "    <tr>\n",
              "      <th>3</th>\n",
              "      <td>F1 Score_mean</td>\n",
              "      <td>0.6608544110040364</td>\n",
              "    </tr>\n",
              "  </tbody>\n",
              "</table>\n",
              "</div>"
            ],
            "text/plain": [
              "         Metric_var               Score\n",
              "0     Accuracy_mean  0.9065527065527068\n",
              "1    Precision_mean  0.7560474100489581\n",
              "2  Sensitivity_mean  0.5994157301384048\n",
              "3     F1 Score_mean  0.6608544110040364"
            ]
          },
          "execution_count": 88,
          "metadata": {},
          "output_type": "execute_result"
        }
      ],
      "source": [
        "rf2_score = rf2_score.iloc[:4]\n",
        "rf2_score"
      ]
    },
    {
      "cell_type": "code",
      "execution_count": null,
      "metadata": {
        "id": "N4V0zTP1tbJU"
      },
      "outputs": [],
      "source": [
        "rf2_score.columns = ['Metric_mean', 'Score']"
      ]
    },
    {
      "cell_type": "code",
      "execution_count": null,
      "metadata": {
        "id": "-fJVTAsQtbJW"
      },
      "outputs": [],
      "source": [
        "frames = [NB_score, NB2_score, rf_score, rf2_score]\n",
        "result = pd.concat(frames)"
      ]
    },
    {
      "cell_type": "code",
      "execution_count": null,
      "metadata": {
        "id": "kH3sf6ZAtbJW",
        "outputId": "18af962c-a65a-4147-b19f-1c8a160fce77"
      },
      "outputs": [
        {
          "data": {
            "text/html": [
              "<div>\n",
              "<style scoped>\n",
              "    .dataframe tbody tr th:only-of-type {\n",
              "        vertical-align: middle;\n",
              "    }\n",
              "\n",
              "    .dataframe tbody tr th {\n",
              "        vertical-align: top;\n",
              "    }\n",
              "\n",
              "    .dataframe thead th {\n",
              "        text-align: right;\n",
              "    }\n",
              "</style>\n",
              "<table border=\"1\" class=\"dataframe\">\n",
              "  <thead>\n",
              "    <tr style=\"text-align: right;\">\n",
              "      <th></th>\n",
              "      <th>Metric_mean</th>\n",
              "      <th>Score</th>\n",
              "    </tr>\n",
              "  </thead>\n",
              "  <tbody>\n",
              "    <tr>\n",
              "      <th>0</th>\n",
              "      <td>Accuracy_mean</td>\n",
              "      <td>0.9202279202279204</td>\n",
              "    </tr>\n",
              "    <tr>\n",
              "      <th>1</th>\n",
              "      <td>Precision_mean</td>\n",
              "      <td>0.7782586246169836</td>\n",
              "    </tr>\n",
              "    <tr>\n",
              "      <th>2</th>\n",
              "      <td>Sensitivity_mean</td>\n",
              "      <td>0.6660289119230428</td>\n",
              "    </tr>\n",
              "    <tr>\n",
              "      <th>3</th>\n",
              "      <td>F1 Score_mean</td>\n",
              "      <td>0.7121008449653897</td>\n",
              "    </tr>\n",
              "    <tr>\n",
              "      <th>0</th>\n",
              "      <td>Accuracy_mean</td>\n",
              "      <td>0.9256410256410258</td>\n",
              "    </tr>\n",
              "    <tr>\n",
              "      <th>1</th>\n",
              "      <td>Precision_mean</td>\n",
              "      <td>0.8036528139043619</td>\n",
              "    </tr>\n",
              "    <tr>\n",
              "      <th>2</th>\n",
              "      <td>Sensitivity_mean</td>\n",
              "      <td>0.6660164261599514</td>\n",
              "    </tr>\n",
              "    <tr>\n",
              "      <th>3</th>\n",
              "      <td>F1 Score_mean</td>\n",
              "      <td>0.7229752114609453</td>\n",
              "    </tr>\n",
              "    <tr>\n",
              "      <th>0</th>\n",
              "      <td>Accuracy_mean</td>\n",
              "      <td>0.9011396011396013</td>\n",
              "    </tr>\n",
              "    <tr>\n",
              "      <th>1</th>\n",
              "      <td>Precision_mean</td>\n",
              "      <td>0.6939541349603272</td>\n",
              "    </tr>\n",
              "    <tr>\n",
              "      <th>2</th>\n",
              "      <td>Sensitivity_mean</td>\n",
              "      <td>0.590899268212332</td>\n",
              "    </tr>\n",
              "    <tr>\n",
              "      <th>3</th>\n",
              "      <td>F1 Score_mean</td>\n",
              "      <td>0.6279708859293726</td>\n",
              "    </tr>\n",
              "    <tr>\n",
              "      <th>0</th>\n",
              "      <td>Accuracy_mean</td>\n",
              "      <td>0.9065527065527068</td>\n",
              "    </tr>\n",
              "    <tr>\n",
              "      <th>1</th>\n",
              "      <td>Precision_mean</td>\n",
              "      <td>0.7560474100489581</td>\n",
              "    </tr>\n",
              "    <tr>\n",
              "      <th>2</th>\n",
              "      <td>Sensitivity_mean</td>\n",
              "      <td>0.5994157301384048</td>\n",
              "    </tr>\n",
              "    <tr>\n",
              "      <th>3</th>\n",
              "      <td>F1 Score_mean</td>\n",
              "      <td>0.6608544110040364</td>\n",
              "    </tr>\n",
              "  </tbody>\n",
              "</table>\n",
              "</div>"
            ],
            "text/plain": [
              "        Metric_mean               Score\n",
              "0     Accuracy_mean  0.9202279202279204\n",
              "1    Precision_mean  0.7782586246169836\n",
              "2  Sensitivity_mean  0.6660289119230428\n",
              "3     F1 Score_mean  0.7121008449653897\n",
              "0     Accuracy_mean  0.9256410256410258\n",
              "1    Precision_mean  0.8036528139043619\n",
              "2  Sensitivity_mean  0.6660164261599514\n",
              "3     F1 Score_mean  0.7229752114609453\n",
              "0     Accuracy_mean  0.9011396011396013\n",
              "1    Precision_mean  0.6939541349603272\n",
              "2  Sensitivity_mean   0.590899268212332\n",
              "3     F1 Score_mean  0.6279708859293726\n",
              "0     Accuracy_mean  0.9065527065527068\n",
              "1    Precision_mean  0.7560474100489581\n",
              "2  Sensitivity_mean  0.5994157301384048\n",
              "3     F1 Score_mean  0.6608544110040364"
            ]
          },
          "execution_count": 91,
          "metadata": {},
          "output_type": "execute_result"
        }
      ],
      "source": [
        "result"
      ]
    },
    {
      "cell_type": "code",
      "execution_count": null,
      "metadata": {
        "id": "cxMKySzltbJX"
      },
      "outputs": [],
      "source": [
        "result['Model']=['Naive Bayes', 'Naive Bayes', 'Naive Bayes', 'Naive Bayes',\n",
        "                'Naive Bayes (No Gender)', 'Naive Bayes (No Gender)','Naive Bayes (No Gender)','Naive Bayes (No Gender)',\n",
        "                'Random Forest', 'Random Forest', 'Random Forest', 'Random Forest',\n",
        "                'Random Forest (No Gender)', 'Random Forest (No Gender)', 'Random Forest (No Gender)', 'Random Forest (No Gender)']\n",
        "result2 = result.groupby(['Model', 'Metric_mean']).sum()"
      ]
    },
    {
      "cell_type": "code",
      "execution_count": null,
      "metadata": {
        "scrolled": true,
        "id": "tQWnnSU_tbJY",
        "outputId": "a4adebf7-f381-4d59-ebc1-9098b1effbf1"
      },
      "outputs": [
        {
          "data": {
            "text/html": [
              "<div>\n",
              "<style scoped>\n",
              "    .dataframe tbody tr th:only-of-type {\n",
              "        vertical-align: middle;\n",
              "    }\n",
              "\n",
              "    .dataframe tbody tr th {\n",
              "        vertical-align: top;\n",
              "    }\n",
              "\n",
              "    .dataframe thead th {\n",
              "        text-align: right;\n",
              "    }\n",
              "</style>\n",
              "<table border=\"1\" class=\"dataframe\">\n",
              "  <thead>\n",
              "    <tr style=\"text-align: right;\">\n",
              "      <th></th>\n",
              "      <th></th>\n",
              "      <th>Score</th>\n",
              "    </tr>\n",
              "    <tr>\n",
              "      <th>Model</th>\n",
              "      <th>Metric_mean</th>\n",
              "      <th></th>\n",
              "    </tr>\n",
              "  </thead>\n",
              "  <tbody>\n",
              "    <tr>\n",
              "      <th rowspan=\"4\" valign=\"top\">Naive Bayes</th>\n",
              "      <th>Accuracy_mean</th>\n",
              "      <td>0.9202279202279204</td>\n",
              "    </tr>\n",
              "    <tr>\n",
              "      <th>F1 Score_mean</th>\n",
              "      <td>0.7121008449653897</td>\n",
              "    </tr>\n",
              "    <tr>\n",
              "      <th>Precision_mean</th>\n",
              "      <td>0.7782586246169836</td>\n",
              "    </tr>\n",
              "    <tr>\n",
              "      <th>Sensitivity_mean</th>\n",
              "      <td>0.6660289119230428</td>\n",
              "    </tr>\n",
              "    <tr>\n",
              "      <th rowspan=\"4\" valign=\"top\">Naive Bayes (No Gender)</th>\n",
              "      <th>Accuracy_mean</th>\n",
              "      <td>0.9256410256410258</td>\n",
              "    </tr>\n",
              "    <tr>\n",
              "      <th>F1 Score_mean</th>\n",
              "      <td>0.7229752114609453</td>\n",
              "    </tr>\n",
              "    <tr>\n",
              "      <th>Precision_mean</th>\n",
              "      <td>0.8036528139043619</td>\n",
              "    </tr>\n",
              "    <tr>\n",
              "      <th>Sensitivity_mean</th>\n",
              "      <td>0.6660164261599514</td>\n",
              "    </tr>\n",
              "    <tr>\n",
              "      <th rowspan=\"4\" valign=\"top\">Random Forest</th>\n",
              "      <th>Accuracy_mean</th>\n",
              "      <td>0.9011396011396013</td>\n",
              "    </tr>\n",
              "    <tr>\n",
              "      <th>F1 Score_mean</th>\n",
              "      <td>0.6279708859293726</td>\n",
              "    </tr>\n",
              "    <tr>\n",
              "      <th>Precision_mean</th>\n",
              "      <td>0.6939541349603272</td>\n",
              "    </tr>\n",
              "    <tr>\n",
              "      <th>Sensitivity_mean</th>\n",
              "      <td>0.590899268212332</td>\n",
              "    </tr>\n",
              "    <tr>\n",
              "      <th rowspan=\"4\" valign=\"top\">Random Forest (No Gender)</th>\n",
              "      <th>Accuracy_mean</th>\n",
              "      <td>0.9065527065527068</td>\n",
              "    </tr>\n",
              "    <tr>\n",
              "      <th>F1 Score_mean</th>\n",
              "      <td>0.6608544110040364</td>\n",
              "    </tr>\n",
              "    <tr>\n",
              "      <th>Precision_mean</th>\n",
              "      <td>0.7560474100489581</td>\n",
              "    </tr>\n",
              "    <tr>\n",
              "      <th>Sensitivity_mean</th>\n",
              "      <td>0.5994157301384048</td>\n",
              "    </tr>\n",
              "  </tbody>\n",
              "</table>\n",
              "</div>"
            ],
            "text/plain": [
              "                                                         Score\n",
              "Model                     Metric_mean                         \n",
              "Naive Bayes               Accuracy_mean     0.9202279202279204\n",
              "                          F1 Score_mean     0.7121008449653897\n",
              "                          Precision_mean    0.7782586246169836\n",
              "                          Sensitivity_mean  0.6660289119230428\n",
              "Naive Bayes (No Gender)   Accuracy_mean     0.9256410256410258\n",
              "                          F1 Score_mean     0.7229752114609453\n",
              "                          Precision_mean    0.8036528139043619\n",
              "                          Sensitivity_mean  0.6660164261599514\n",
              "Random Forest             Accuracy_mean     0.9011396011396013\n",
              "                          F1 Score_mean     0.6279708859293726\n",
              "                          Precision_mean    0.6939541349603272\n",
              "                          Sensitivity_mean   0.590899268212332\n",
              "Random Forest (No Gender) Accuracy_mean     0.9065527065527068\n",
              "                          F1 Score_mean     0.6608544110040364\n",
              "                          Precision_mean    0.7560474100489581\n",
              "                          Sensitivity_mean  0.5994157301384048"
            ]
          },
          "execution_count": 93,
          "metadata": {},
          "output_type": "execute_result"
        }
      ],
      "source": [
        "result2"
      ]
    },
    {
      "cell_type": "markdown",
      "metadata": {
        "id": "bLsv0DKPtbJY"
      },
      "source": [
        "Basically, to select the best model we need to take a look at model with the highest F1 score. In this case, Naive Bayes without gender have the highest F1 score. Since, we need to select the simplest model as the best, we will choose Naive Bayes without gender model."
      ]
    },
    {
      "cell_type": "code",
      "execution_count": null,
      "metadata": {
        "id": "-3JmtbFOtbJY"
      },
      "outputs": [],
      "source": [
        "data_us = data.groupby(['Diabetes'])[['Glucose', 'HDL Chol', 'Chol/HDL ratio']].agg(['min', 'max', 'mean'])"
      ]
    },
    {
      "cell_type": "code",
      "execution_count": null,
      "metadata": {
        "id": "Gx5Jbw1htbJZ",
        "outputId": "2fd2c9eb-e9a8-445c-908c-0947d89fe07f"
      },
      "outputs": [
        {
          "data": {
            "text/html": [
              "<div>\n",
              "<style scoped>\n",
              "    .dataframe tbody tr th:only-of-type {\n",
              "        vertical-align: middle;\n",
              "    }\n",
              "\n",
              "    .dataframe tbody tr th {\n",
              "        vertical-align: top;\n",
              "    }\n",
              "\n",
              "    .dataframe thead tr th {\n",
              "        text-align: left;\n",
              "    }\n",
              "\n",
              "    .dataframe thead tr:last-of-type th {\n",
              "        text-align: right;\n",
              "    }\n",
              "</style>\n",
              "<table border=\"1\" class=\"dataframe\">\n",
              "  <thead>\n",
              "    <tr>\n",
              "      <th></th>\n",
              "      <th colspan=\"3\" halign=\"left\">Glucose</th>\n",
              "      <th colspan=\"3\" halign=\"left\">HDL Chol</th>\n",
              "      <th colspan=\"3\" halign=\"left\">Chol/HDL ratio</th>\n",
              "    </tr>\n",
              "    <tr>\n",
              "      <th></th>\n",
              "      <th>min</th>\n",
              "      <th>max</th>\n",
              "      <th>mean</th>\n",
              "      <th>min</th>\n",
              "      <th>max</th>\n",
              "      <th>mean</th>\n",
              "      <th>min</th>\n",
              "      <th>max</th>\n",
              "      <th>mean</th>\n",
              "    </tr>\n",
              "    <tr>\n",
              "      <th>Diabetes</th>\n",
              "      <th></th>\n",
              "      <th></th>\n",
              "      <th></th>\n",
              "      <th></th>\n",
              "      <th></th>\n",
              "      <th></th>\n",
              "      <th></th>\n",
              "      <th></th>\n",
              "      <th></th>\n",
              "    </tr>\n",
              "  </thead>\n",
              "  <tbody>\n",
              "    <tr>\n",
              "      <th>0</th>\n",
              "      <td>48</td>\n",
              "      <td>371</td>\n",
              "      <td>91.551515</td>\n",
              "      <td>12</td>\n",
              "      <td>120</td>\n",
              "      <td>51.172727</td>\n",
              "      <td>1.5</td>\n",
              "      <td>10.6</td>\n",
              "      <td>4.322727</td>\n",
              "    </tr>\n",
              "    <tr>\n",
              "      <th>1</th>\n",
              "      <td>60</td>\n",
              "      <td>385</td>\n",
              "      <td>194.166667</td>\n",
              "      <td>23</td>\n",
              "      <td>114</td>\n",
              "      <td>45.283333</td>\n",
              "      <td>2.0</td>\n",
              "      <td>19.3</td>\n",
              "      <td>5.635000</td>\n",
              "    </tr>\n",
              "  </tbody>\n",
              "</table>\n",
              "</div>"
            ],
            "text/plain": [
              "         Glucose                  HDL Chol                 Chol/HDL ratio  \\\n",
              "             min  max        mean      min  max       mean            min   \n",
              "Diabetes                                                                    \n",
              "0             48  371   91.551515       12  120  51.172727            1.5   \n",
              "1             60  385  194.166667       23  114  45.283333            2.0   \n",
              "\n",
              "                          \n",
              "           max      mean  \n",
              "Diabetes                  \n",
              "0         10.6  4.322727  \n",
              "1         19.3  5.635000  "
            ]
          },
          "execution_count": 95,
          "metadata": {},
          "output_type": "execute_result"
        }
      ],
      "source": [
        "data_us"
      ]
    },
    {
      "cell_type": "markdown",
      "metadata": {
        "id": "x3r3qyU8tbJb"
      },
      "source": [
        "After we select the variables that are needed for modeling, we tried to find the characteristics of diabetics and non diabetics. Based on the table above, we conclude that diabetics have the average glucose value of 194.16, HDL chol with value of 45.28, Chol/HDL ratio of 5.63. While non diabetics have the average glucose value of 91.55, HDL chol value of 51.17, and Chol/HDL ratio value of 4.32. This was supported by Mayoclinic, whereas non diabetics have glucose value lower than 140mg/dL. While for diabetics, 140-199mg/dL indicates pre-diabetes. Higher HDL chol reduces the risk of diabetes, while lower HDL chol indicates otherwise. And finally if bad cholestrol is higher than good cholesterol (HDL), it will potentially makes diabetes risk higher."
      ]
    }
  ],
  "metadata": {
    "kernelspec": {
      "display_name": "Python 3",
      "language": "python",
      "name": "python3"
    },
    "language_info": {
      "codemirror_mode": {
        "name": "ipython",
        "version": 3
      },
      "file_extension": ".py",
      "mimetype": "text/x-python",
      "name": "python",
      "nbconvert_exporter": "python",
      "pygments_lexer": "ipython3",
      "version": "3.8.5"
    },
    "colab": {
      "name": "Diabetics Classification",
      "provenance": []
    }
  },
  "nbformat": 4,
  "nbformat_minor": 0
}